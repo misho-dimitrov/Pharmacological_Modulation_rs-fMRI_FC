{
 "cells": [
  {
   "cell_type": "code",
   "execution_count": null,
   "metadata": {},
   "outputs": [],
   "source": [
    "# Check if any two groups differ significantly in terms of age, IQ and in-scanner movement "
   ]
  },
  {
   "cell_type": "code",
   "execution_count": null,
   "metadata": {},
   "outputs": [],
   "source": []
  },
  {
   "cell_type": "code",
   "execution_count": null,
   "metadata": {},
   "outputs": [],
   "source": [
    "import os\n",
    "\n",
    "import pandas as pd\n",
    "import numpy as np\n",
    "import matplotlib.pyplot as plt\n",
    "from scipy import stats"
   ]
  },
  {
   "cell_type": "code",
   "execution_count": null,
   "metadata": {},
   "outputs": [],
   "source": []
  },
  {
   "cell_type": "code",
   "execution_count": null,
   "metadata": {},
   "outputs": [],
   "source": []
  },
  {
   "cell_type": "code",
   "execution_count": null,
   "metadata": {},
   "outputs": [],
   "source": [
    "def load_excel_data(excel_file, spreadsheet, group1, group2, covariate):\n",
    "    data = pd.read_excel(excel_file, sheet_name=spreadsheet, engine='openpyxl')\n",
    "    sub_ids = data.iloc[:, 0]\n",
    "    data.index = sub_ids\n",
    "    group1_df = data.loc[[ses for ses in group1], covariate]\n",
    "    group2_df = data.loc[[ses for ses in group2], covariate]\n",
    "    return group1_df, group2_df"
   ]
  },
  {
   "cell_type": "code",
   "execution_count": null,
   "metadata": {},
   "outputs": [],
   "source": [
    "# Do a whisker plot\n",
    "def two_group_whisker_plot(d1, d2):\n",
    "    # https://matplotlib.org/3.1.1/api/_as_gen/matplotlib.pyplot.boxplot.html\n",
    "\n",
    "    fig, ax = plt.subplots(figsize=(20,8))\n",
    "    whisker_figure = ax.boxplot([d1, d2], \n",
    "                              #notch=True, \n",
    "                              #bootstrap=5000, \n",
    "                              showfliers=True)\n",
    "    #ax.set_xticklabels('PUT GROUP NAMES HERE')\n",
    "    plt.show(whisker_figure)"
   ]
  },
  {
   "cell_type": "code",
   "execution_count": null,
   "metadata": {},
   "outputs": [],
   "source": [
    "# Check normality of data\n",
    "def check_norm(data):\n",
    "    # Visualise first\n",
    "    plt.hist(data\n",
    "             ,bins = 5\n",
    "            )\n",
    "    plt.show()\n",
    "    \n",
    "    k2, p = stats.normaltest(data)\n",
    "    alpha = 1e-3\n",
    "\n",
    "    print('P-value = ' + '{0:.10f}'.format(p))\n",
    "\n",
    "    # null hypothesis: x comes from a normal distribution\n",
    "    if p < alpha:\n",
    "        print(\"The null hypothesis can be rejected. The sample is NOT normally distributed.\")\n",
    "        return False\n",
    "    else:\n",
    "        print(\"The null hypothesis cannot be rejected. The sample is normally distributed.\")\n",
    "        return True"
   ]
  },
  {
   "cell_type": "code",
   "execution_count": null,
   "metadata": {},
   "outputs": [],
   "source": [
    "# Check for equality of variances\n",
    "def calc_var_equal(d1, d2):\n",
    "    v1, v2 = np.var(d1), np.var(d2)\n",
    "    if (v1 / v2) or (v2 / v1) >= 4:\n",
    "        return False\n",
    "    else:\n",
    "        return True"
   ]
  },
  {
   "cell_type": "code",
   "execution_count": null,
   "metadata": {},
   "outputs": [],
   "source": [
    "# Only for continuous variables!!!\n",
    "def test_sign_diff(d1, norm_d1, d2, norm_d2, var_equal):\n",
    "    if norm_d1 == True and norm_d2 == True:\n",
    "        if var_equal == True:\n",
    "            print(stats.ttest_ind(a=d1, b=d2, equal_var=True))\n",
    "        # https://www.statology.org/determine-equal-or-unequal-variance/\n",
    "        else:\n",
    "            print(stats.ttest_ind(a=d1, b=d2, equal_var=False))\n",
    "    else:\n",
    "        #https://docs.scipy.org/doc/scipy-0.14.0/reference/generated/scipy.stats.mannwhitneyu.html\n",
    "        u, prob = stats.mannwhitneyu(d1, d2)\n",
    "        print(\"u = {:g}\".format(u))\n",
    "        print(\"prob = {:g}\".format(prob))\n",
    "        # to get two-sided p-value:\n",
    "        two_sided_prob = 2 * prob\n",
    "        print(\"P-value = \" + str(two_sided_prob))"
   ]
  },
  {
   "cell_type": "code",
   "execution_count": null,
   "metadata": {},
   "outputs": [],
   "source": []
  },
  {
   "cell_type": "code",
   "execution_count": null,
   "metadata": {},
   "outputs": [],
   "source": [
    "# Check assumptions for the statistical tests and perform the appropriate test\n",
    "def check_norm_diff(work_dir, excel_file, spreadsheet, group1, group2, covariate):\n",
    "    # Go into the working directory\n",
    "    os.chdir(work_dir)\n",
    "    \n",
    "    # Load the data and generate two separate data frames, one for each group\n",
    "    group1_df, group2_df = load_excel_data(excel_file, spreadsheet, group1, group2, covariate)\n",
    "    \n",
    "    # Check normality of each group\n",
    "    print('Normality check for group 1:')\n",
    "    group1_norm = check_norm(group1_df)\n",
    "    print('')\n",
    "    print('Normality check for group 2:')\n",
    "    group2_norm = check_norm(group2_df)\n",
    "    \n",
    "    # Plot group values in a whisker plot\n",
    "    two_group_whisker_plot(group1_df, group2_df)\n",
    "    \n",
    "    # Check equality of variances between the two groups\n",
    "    var_equal = calc_var_equal(group1_df, group2_df)\n",
    "    print('')\n",
    "    print('Equality of variances is = ' + str(var_equal))\n",
    "    \n",
    "    # \"Pause\" the program and ask the user if they agree with the normality checks\n",
    "    print('')\n",
    "    while True:\n",
    "        agree = input('Do you agree with the normality checks? Y/N ')\n",
    "        if agree == 'Y':\n",
    "            break\n",
    "        elif agree == 'N':\n",
    "            while True:\n",
    "                print('')\n",
    "                true_norm = input('Is the distribution of group 1 and 2 normal, respectively? Y/N, Y/N ')\n",
    "                if true_norm == 'Y, N':\n",
    "                    group1_norm = True\n",
    "                    group2_norm = False\n",
    "                    break\n",
    "                elif true_norm == 'N, Y':\n",
    "                    group1_norm = False\n",
    "                    group2_norm = True\n",
    "                    break\n",
    "                elif true_norm == 'N, N':\n",
    "                    group1_norm = False\n",
    "                    group2_norm = False\n",
    "                    break\n",
    "                else:\n",
    "                    print('Please type Y/N, Y/N. ')\n",
    "                        \n",
    "            break\n",
    "        \n",
    "        else:\n",
    "            print('Please type Y or N. ')\n",
    "            \n",
    "    \n",
    "    # Test whether the difference between the groups is statistically significant\n",
    "    print('')\n",
    "    print('Are the differences significant? See below..')\n",
    "    test_sign_diff(group1_df, group1_norm, group2_df, group2_norm, var_equal)\n",
    "    \n",
    "    print('Done!')\n",
    "    "
   ]
  },
  {
   "cell_type": "code",
   "execution_count": null,
   "metadata": {},
   "outputs": [],
   "source": []
  },
  {
   "cell_type": "code",
   "execution_count": null,
   "metadata": {},
   "outputs": [],
   "source": []
  },
  {
   "cell_type": "code",
   "execution_count": null,
   "metadata": {},
   "outputs": [],
   "source": [
    "# --------------------------------------------------------------------------------------------------------------- #"
   ]
  },
  {
   "cell_type": "code",
   "execution_count": null,
   "metadata": {},
   "outputs": [],
   "source": []
  },
  {
   "cell_type": "code",
   "execution_count": null,
   "metadata": {},
   "outputs": [],
   "source": []
  },
  {
   "cell_type": "code",
   "execution_count": null,
   "metadata": {},
   "outputs": [],
   "source": [
    "# # Placebo sessions from the Green+Orange dataset\n",
    "\n",
    "# Create ID lists\n",
    "study_name = 'BRCTRADA'\n",
    "placebo_td = ['001D', '003D', '004D', '007D', '008C', '009B', '010C', '011B', '012C', '013C', '014B', '015D', '016B', '017D', '019B', '020B', '021C', '022C', '023D']\n",
    "placebo_autism = ['101D', '102C', '103C', '104B', '105B', '106B', '107C', '109C', '110C', '111D', '112B', '113D', '114D', '116B', '117B', '119C', '120C', '123B']\n",
    "\n",
    "placebo_td_list = [study_name + sub_id[:3] for sub_id in placebo_td]\n",
    "placebo_autism_list = [study_name + sub_id[:3] for sub_id in placebo_autism]"
   ]
  },
  {
   "cell_type": "code",
   "execution_count": null,
   "metadata": {},
   "outputs": [],
   "source": [
    "check_norm_diff('/Users/mishodimitrov/Downloads/PhD/Analysis/Tianeptine/Data/Covariates',\n",
    "               'Covariates.xlsx',\n",
    "               'data',\n",
    "               placebo_td_list,\n",
    "               placebo_autism_list,\n",
    "               'IQ')"
   ]
  },
  {
   "cell_type": "code",
   "execution_count": null,
   "metadata": {},
   "outputs": [],
   "source": [
    "check_norm_diff('/Users/mishodimitrov/Downloads/PhD/Analysis/Tianeptine/Data/Covariates',\n",
    "               'Covariates.xlsx',\n",
    "               'data',\n",
    "               placebo_td_list,\n",
    "               placebo_autism_list,\n",
    "               'Age')"
   ]
  },
  {
   "cell_type": "code",
   "execution_count": null,
   "metadata": {},
   "outputs": [],
   "source": [
    "check_norm_diff('/Users/mishodimitrov/Downloads/PhD/Analysis/Tianeptine/Data/Covariates',\n",
    "               'Covariates.xlsx',\n",
    "               'data',\n",
    "               placebo_td_list,\n",
    "               placebo_autism_list,\n",
    "               'mFD')"
   ]
  },
  {
   "cell_type": "code",
   "execution_count": null,
   "metadata": {},
   "outputs": [],
   "source": []
  },
  {
   "cell_type": "code",
   "execution_count": null,
   "metadata": {},
   "outputs": [],
   "source": []
  },
  {
   "cell_type": "code",
   "execution_count": null,
   "metadata": {},
   "outputs": [],
   "source": [
    "# # Tianeptine sessions from the Green+Orange dataset\n",
    "\n",
    "# Create ID lists\n",
    "study_name = 'BRCTRADA'\n",
    "tianeptine_td = ['001B', '003C', '004C', '007C', '008D', '009C', '010B', '011D', '012B', '013D', '014C', '015B',\n",
    "              '016D', '017B', '019C', '020C', '021B', '022D', '023B']\n",
    "tianeptine_autism = ['101C', '102B', '103D', '104D', '105D', '106C', '107D',\n",
    "          '108B', '109B', '110B', '112C', '113C', '114B', '115D', '116C', '117D', '119D', '120B', '123C']\n",
    "\n",
    "tianeptine_td_list = [study_name + sub_id[:3] for sub_id in tianeptine_td]\n",
    "tianeptine_autism_list = [study_name + sub_id[:3] for sub_id in tianeptine_autism]"
   ]
  },
  {
   "cell_type": "code",
   "execution_count": null,
   "metadata": {},
   "outputs": [],
   "source": [
    "check_norm_diff('/Users/mishodimitrov/Downloads/PhD/Analysis/Tianeptine/Data/Covariates',\n",
    "               'Covariates.xlsx',\n",
    "               'data',\n",
    "               tianeptine_td_list,\n",
    "               tianeptine_autism_list,\n",
    "               'IQ')"
   ]
  },
  {
   "cell_type": "code",
   "execution_count": null,
   "metadata": {},
   "outputs": [],
   "source": [
    "check_norm_diff('/Users/mishodimitrov/Downloads/PhD/Analysis/Tianeptine/Data/Covariates',\n",
    "               'Covariates.xlsx',\n",
    "               'data',\n",
    "               tianeptine_td_list,\n",
    "               tianeptine_autism_list,\n",
    "               'Age')"
   ]
  },
  {
   "cell_type": "code",
   "execution_count": null,
   "metadata": {},
   "outputs": [],
   "source": [
    "check_norm_diff('/Users/mishodimitrov/Downloads/PhD/Analysis/Tianeptine/Data/Covariates',\n",
    "               'Covariates.xlsx',\n",
    "               'data',\n",
    "               tianeptine_td_list,\n",
    "               tianeptine_autism_list,\n",
    "               'mFD')"
   ]
  },
  {
   "cell_type": "code",
   "execution_count": null,
   "metadata": {},
   "outputs": [],
   "source": []
  },
  {
   "cell_type": "code",
   "execution_count": null,
   "metadata": {},
   "outputs": [],
   "source": []
  },
  {
   "cell_type": "code",
   "execution_count": null,
   "metadata": {},
   "outputs": [],
   "source": [
    "# Also compare ASC_p vs ASC_T"
   ]
  },
  {
   "cell_type": "code",
   "execution_count": null,
   "metadata": {},
   "outputs": [],
   "source": [
    "check_norm_diff('/Users/mishodimitrov/Downloads/PhD/Analysis/Tianeptine/Data/Covariates',\n",
    "               'Covariates.xlsx',\n",
    "               'data',\n",
    "               placebo_autism_list,\n",
    "               tianeptine_autism_list,\n",
    "               'IQ')"
   ]
  },
  {
   "cell_type": "code",
   "execution_count": null,
   "metadata": {},
   "outputs": [],
   "source": [
    "check_norm_diff('/Users/mishodimitrov/Downloads/PhD/Analysis/Tianeptine/Data/Covariates',\n",
    "               'Covariates.xlsx',\n",
    "               'data',\n",
    "               tianeptine_td_list,\n",
    "               tianeptine_autism_list,\n",
    "               'Age')"
   ]
  },
  {
   "cell_type": "code",
   "execution_count": null,
   "metadata": {},
   "outputs": [],
   "source": [
    "check_norm_diff('/Users/mishodimitrov/Downloads/PhD/Analysis/Tianeptine/Data/Covariates',\n",
    "               'Covariates.xlsx',\n",
    "               'data',\n",
    "               tianeptine_td_list,\n",
    "               tianeptine_autism_list,\n",
    "               'mFD')"
   ]
  },
  {
   "cell_type": "code",
   "execution_count": null,
   "metadata": {},
   "outputs": [],
   "source": []
  }
 ],
 "metadata": {
  "kernelspec": {
   "display_name": "Python 3 (ipykernel)",
   "language": "python",
   "name": "python3"
  },
  "language_info": {
   "codemirror_mode": {
    "name": "ipython",
    "version": 3
   },
   "file_extension": ".py",
   "mimetype": "text/x-python",
   "name": "python",
   "nbconvert_exporter": "python",
   "pygments_lexer": "ipython3",
   "version": "3.9.13"
  }
 },
 "nbformat": 4,
 "nbformat_minor": 2
}
