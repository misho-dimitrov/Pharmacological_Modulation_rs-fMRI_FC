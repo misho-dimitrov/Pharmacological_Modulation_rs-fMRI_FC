{
 "cells": [
  {
   "cell_type": "code",
   "execution_count": null,
   "metadata": {},
   "outputs": [],
   "source": [
    "# Plot the voxel-wise results "
   ]
  },
  {
   "cell_type": "code",
   "execution_count": null,
   "metadata": {},
   "outputs": [],
   "source": []
  },
  {
   "cell_type": "code",
   "execution_count": null,
   "metadata": {},
   "outputs": [],
   "source": [
    "import os\n",
    "\n",
    "import nibabel as nib\n",
    "from nilearn import plotting\n",
    "from nilearn import datasets\n",
    "from nilearn import surface"
   ]
  },
  {
   "cell_type": "code",
   "execution_count": null,
   "metadata": {},
   "outputs": [],
   "source": []
  },
  {
   "cell_type": "code",
   "execution_count": null,
   "metadata": {},
   "outputs": [],
   "source": [
    "# To load an image from a single brain:\n",
    "def img_load(folder, img):\n",
    "    img_path = os.path.join(folder, img)\n",
    "    fmri_image = nib.load(img_path)\n",
    "    print(fmri_image.shape)\n",
    "    return fmri_image"
   ]
  },
  {
   "cell_type": "code",
   "execution_count": null,
   "metadata": {},
   "outputs": [],
   "source": [
    "# Load the unthresholded t-map\n",
    "stat_map = img_load('/Users/mishodimitrov/Downloads/PhD/Analysis/CBD/Static_FC/Analysis/Step_3_Voxel-wise_wDC/shift_comparison',\n",
    "                           'shift_comparison_tstat1.nii.gz')\n",
    "\n"
   ]
  },
  {
   "cell_type": "code",
   "execution_count": null,
   "metadata": {},
   "outputs": [],
   "source": []
  },
  {
   "cell_type": "code",
   "execution_count": null,
   "metadata": {},
   "outputs": [],
   "source": []
  },
  {
   "cell_type": "markdown",
   "metadata": {},
   "source": [
    "### Plotting examples at https://nilearn.github.io/auto_examples/01_plotting/plot_3d_map_to_surface_projection.html#sphx-glr-auto-examples-01-plotting-plot-3d-map-to-surface-projection-py"
   ]
  },
  {
   "cell_type": "code",
   "execution_count": null,
   "metadata": {},
   "outputs": [],
   "source": []
  },
  {
   "cell_type": "code",
   "execution_count": null,
   "metadata": {},
   "outputs": [],
   "source": [
    "# Fsaverage5 surface template\n",
    "fsaverage = datasets.fetch_surf_fsaverage()\n",
    "\n",
    "# The fsaverage dataset contains file names pointing to\n",
    "# the file locations\n",
    "print('Fsaverage5 pial surface of left hemisphere is at: %s' %\n",
    "      fsaverage['pial_left'])\n",
    "print('Fsaverage5 inflated surface of left hemisphere is at: %s' %\n",
    "      fsaverage['pial_right'])"
   ]
  },
  {
   "cell_type": "code",
   "execution_count": null,
   "metadata": {},
   "outputs": [],
   "source": []
  },
  {
   "cell_type": "code",
   "execution_count": null,
   "metadata": {},
   "outputs": [],
   "source": [
    "# --------------------------------------------------------------------------------------------------------------- #"
   ]
  },
  {
   "cell_type": "code",
   "execution_count": null,
   "metadata": {},
   "outputs": [],
   "source": [
    "texture_r = surface.vol_to_surf(stat_map, fsaverage.pial_right)"
   ]
  },
  {
   "cell_type": "code",
   "execution_count": null,
   "metadata": {},
   "outputs": [],
   "source": []
  },
  {
   "cell_type": "code",
   "execution_count": null,
   "metadata": {},
   "outputs": [],
   "source": [
    "plotting.plot_surf_stat_map(fsaverage.infl_right, texture_r, hemi='right',\n",
    "                            title='Right hemisphere', colorbar=True,\n",
    "                            threshold=0.0005, bg_map=fsaverage.sulc_right)"
   ]
  },
  {
   "cell_type": "code",
   "execution_count": null,
   "metadata": {},
   "outputs": [],
   "source": []
  },
  {
   "cell_type": "code",
   "execution_count": null,
   "metadata": {},
   "outputs": [],
   "source": [
    "plotting.plot_surf_stat_map(fsaverage.infl_right, texture_r, hemi='right',\n",
    "                            view='medial',\n",
    "                            title='Right hemisphere', colorbar=True,\n",
    "                            threshold=0.0005, bg_map=fsaverage.sulc_right)"
   ]
  },
  {
   "cell_type": "code",
   "execution_count": null,
   "metadata": {},
   "outputs": [],
   "source": []
  },
  {
   "cell_type": "code",
   "execution_count": null,
   "metadata": {},
   "outputs": [],
   "source": []
  },
  {
   "cell_type": "code",
   "execution_count": null,
   "metadata": {},
   "outputs": [],
   "source": [
    "# --------------------------------------------------------------------------------------------------------------- #"
   ]
  },
  {
   "cell_type": "code",
   "execution_count": null,
   "metadata": {},
   "outputs": [],
   "source": [
    "texture_l = surface.vol_to_surf(stat_map, fsaverage.pial_left)"
   ]
  },
  {
   "cell_type": "code",
   "execution_count": null,
   "metadata": {},
   "outputs": [],
   "source": []
  },
  {
   "cell_type": "code",
   "execution_count": null,
   "metadata": {},
   "outputs": [],
   "source": [
    "plotting.plot_surf_stat_map(fsaverage.infl_left, texture_l, hemi='left',\n",
    "                            title='Left hemisphere', colorbar=True,\n",
    "                            threshold=0.0005, bg_map=fsaverage.sulc_left)"
   ]
  },
  {
   "cell_type": "code",
   "execution_count": null,
   "metadata": {},
   "outputs": [],
   "source": [
    "plotting.plot_surf_stat_map(fsaverage.infl_left, texture_l, hemi='left',\n",
    "                            view='medial',\n",
    "                            title='Left hemisphere', colorbar=True,\n",
    "                            threshold=0.0005, bg_map=fsaverage.sulc_left)"
   ]
  },
  {
   "cell_type": "code",
   "execution_count": null,
   "metadata": {},
   "outputs": [],
   "source": []
  },
  {
   "cell_type": "code",
   "execution_count": null,
   "metadata": {},
   "outputs": [],
   "source": [
    "# Additional plots"
   ]
  },
  {
   "cell_type": "code",
   "execution_count": null,
   "metadata": {},
   "outputs": [],
   "source": [
    "plotting.plot_glass_brain(stat_map, display_mode='l', plot_abs=False,\n",
    "                          cmap='YlOrRd', title='Glass brain', threshold=.95)\n",
    "\n",
    "plotting.plot_stat_map(stat_map, display_mode='y', threshold=.95,\n",
    "                       cmap='YlOrRd', cut_coords=range(-20, 10, 5), title='Slices')"
   ]
  },
  {
   "cell_type": "code",
   "execution_count": null,
   "metadata": {},
   "outputs": [],
   "source": []
  }
 ],
 "metadata": {
  "kernelspec": {
   "display_name": "Python 3 (ipykernel)",
   "language": "python",
   "name": "python3"
  },
  "language_info": {
   "codemirror_mode": {
    "name": "ipython",
    "version": 3
   },
   "file_extension": ".py",
   "mimetype": "text/x-python",
   "name": "python",
   "nbconvert_exporter": "python",
   "pygments_lexer": "ipython3",
   "version": "3.9.13"
  }
 },
 "nbformat": 4,
 "nbformat_minor": 2
}
