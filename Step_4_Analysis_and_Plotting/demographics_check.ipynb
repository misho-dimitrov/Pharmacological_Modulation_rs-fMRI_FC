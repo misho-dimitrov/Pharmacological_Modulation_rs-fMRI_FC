{
 "cells": [
  {
   "cell_type": "code",
   "execution_count": null,
   "metadata": {},
   "outputs": [],
   "source": [
    "# Check if any two groups differ significantly in terms of age, IQ and in-scanner movement "
   ]
  },
  {
   "cell_type": "code",
   "execution_count": null,
   "metadata": {},
   "outputs": [],
   "source": []
  },
  {
   "cell_type": "code",
   "execution_count": 1,
   "metadata": {},
   "outputs": [],
   "source": [
    "import os\n",
    "\n",
    "import pandas as pd\n",
    "import numpy as np\n",
    "import matplotlib.pyplot as plt\n",
    "from scipy import stats\n",
    "import statsmodels.api as sm\n",
    "import pylab"
   ]
  },
  {
   "cell_type": "code",
   "execution_count": null,
   "metadata": {},
   "outputs": [],
   "source": []
  },
  {
   "cell_type": "code",
   "execution_count": null,
   "metadata": {},
   "outputs": [],
   "source": []
  },
  {
   "cell_type": "code",
   "execution_count": 2,
   "metadata": {},
   "outputs": [],
   "source": [
    "def load_excel_data(excel_file, spreadsheet, group1, group2, covariate):\n",
    "    data = pd.read_excel(excel_file, sheet_name=spreadsheet, engine='openpyxl')\n",
    "    sub_ids = data.iloc[:, 0]\n",
    "    data.index = sub_ids\n",
    "    group1_df = data.loc[[ses for ses in group1], covariate]\n",
    "    group2_df = data.loc[[ses for ses in group2], covariate]\n",
    "    return group1_df, group2_df"
   ]
  },
  {
   "cell_type": "code",
   "execution_count": 3,
   "metadata": {},
   "outputs": [],
   "source": [
    "# Check normality of data\n",
    "def check_norm(data):\n",
    "    # Visualise data in a histogram\n",
    "    plt.hist(data\n",
    "             ,bins = 5\n",
    "            )\n",
    "    plt.show()\n",
    "    \n",
    "    # Create a quantile-quantile (Q-Q) plot\n",
    "    sm.qqplot(data, line='q')\n",
    "    pylab.show()\n",
    "    \n",
    "    # Test normality\n",
    "    t, p = stats.shapiro(data)\n",
    "    alpha = 0.05 #1e-3\n",
    "\n",
    "    print('t-statistic = ' + '{0:.10f}'.format(t))\n",
    "    print('P-value = ' + '{0:.10f}'.format(p))\n",
    "\n",
    "    # null hypothesis: x comes from a normal distribution\n",
    "    if p < alpha:\n",
    "        print(\"The null hypothesis can be rejected. The sample is NOT normally distributed.\")\n",
    "        return False\n",
    "    else:\n",
    "        print(\"The null hypothesis cannot be rejected. The sample is normally distributed.\")\n",
    "        return True"
   ]
  },
  {
   "cell_type": "code",
   "execution_count": 4,
   "metadata": {},
   "outputs": [],
   "source": [
    "# Check for equality of variances\n",
    "def calc_var_equal(d1, norm_d1, d2, norm_d2):\n",
    "    print(\"\")\n",
    "    print(\"Testing equality of variances..\")\n",
    "    alpha = 0.05\n",
    "    # If normally distributed, perform a Bartlett test\n",
    "    if norm_d1 == True and norm_d2 == True:\n",
    "        stat, p = stats.bartlett(d1, d2)\n",
    "    else:\n",
    "    # If non-normally distributed, perform a Levene test\n",
    "        stat, p = stats.levene(d1, d2)\n",
    "\n",
    "    # null hypothesis: x and y have equal variances\n",
    "    if p < alpha:\n",
    "        print(\"The null hypothesis can be rejected. X and Y do NOT have equal variances.\")\n",
    "        return False\n",
    "    else:\n",
    "        print(\"The null hypothesis cannot be rejected. X and Y have equal variances.\")\n",
    "        return True"
   ]
  },
  {
   "cell_type": "code",
   "execution_count": 5,
   "metadata": {},
   "outputs": [],
   "source": [
    "# Do a whisker plot\n",
    "def two_group_whisker_plot(d1, d2):\n",
    "    # https://matplotlib.org/3.1.1/api/_as_gen/matplotlib.pyplot.boxplot.html\n",
    "\n",
    "    fig, ax = plt.subplots(figsize=(20,8))\n",
    "    whisker_figure = ax.boxplot([d1, d2], \n",
    "                              #notch=True, \n",
    "                              #bootstrap=5000, \n",
    "                              showfliers=True)\n",
    "    #ax.set_xticklabels('PUT GROUP NAMES HERE')\n",
    "    plt.show(whisker_figure)"
   ]
  },
  {
   "cell_type": "code",
   "execution_count": 6,
   "metadata": {},
   "outputs": [],
   "source": [
    "# Only for continuous variables!!!\n",
    "def test_sign_diff(d1, norm_d1, d2, norm_d2, var_equal, paired):\n",
    "    # If normally distributed\n",
    "    if norm_d1 == True and norm_d2 == True:\n",
    "        # And with equal variances\n",
    "        if var_equal == True:\n",
    "            if paired == True:\n",
    "                print(stats.ttest_rel(a=d1, b=d2))\n",
    "            elif paired == False:\n",
    "                # Do an independent two-sample Student t-test\n",
    "                print(stats.ttest_ind(a=d1, b=d2, equal_var=True))\n",
    "            else:\n",
    "                print(\"Please enter True or False for the paired argument..\")\n",
    "        # If variances are unequal, perform Welch's test\n",
    "        else:\n",
    "            print(stats.ttest_ind(a=d1, b=d2, equal_var=False))\n",
    "    # If non-normally distributed, conduct a Wilcoxon rank sum (aka Mann-Whitney) test\n",
    "    else:\n",
    "        if paired == True:\n",
    "            print(stats.wilcoxon(d1, d2))\n",
    "        elif paired == False:\n",
    "            #https://docs.scipy.org/doc/scipy-0.14.0/reference/generated/scipy.stats.mannwhitneyu.html\n",
    "            u, prob = stats.mannwhitneyu(d1, d2)\n",
    "            print(\"u = {:g}\".format(u))\n",
    "            print(\"prob = {:g}\".format(prob))\n",
    "            # to get two-sided p-value:\n",
    "            two_sided_prob = 2 * prob\n",
    "            print(\"P-value = \" + str(two_sided_prob))\n",
    "        else:\n",
    "            print(\"Please enter True or False for the paired argument..\")"
   ]
  },
  {
   "cell_type": "code",
   "execution_count": null,
   "metadata": {},
   "outputs": [],
   "source": []
  },
  {
   "cell_type": "code",
   "execution_count": 7,
   "metadata": {},
   "outputs": [],
   "source": [
    "# Check assumptions for the statistical tests and perform the appropriate test\n",
    "def check_norm_diff(work_dir, excel_file, spreadsheet, group1, group2, covariate, paired):\n",
    "    # Go into the working directory\n",
    "    os.chdir(work_dir)\n",
    "    \n",
    "    # Load the data and generate two separate data frames, one for each group\n",
    "    group1_df, group2_df = load_excel_data(excel_file, spreadsheet, group1, group2, covariate)\n",
    "    \n",
    "    # Check normality of each group\n",
    "    print('Normality check for group 1:')\n",
    "    group1_norm = check_norm(group1_df)\n",
    "    print('')\n",
    "    print('Normality check for group 2:')\n",
    "    group2_norm = check_norm(group2_df)\n",
    "    \n",
    "    # Check equality of variances between the two groups\n",
    "    var_equal = calc_var_equal(group1_df, group1_norm, group2_df, group1_norm)\n",
    "    print('')\n",
    "    print('Equality of variances is = ' + str(var_equal))\n",
    "    \n",
    "    # Plot group values in a whisker plot\n",
    "    two_group_whisker_plot(group1_df, group2_df)\n",
    "    \n",
    "    # \"Pause\" the program and ask the user if they agree with the normality checks\n",
    "    print('')\n",
    "    while True:\n",
    "        agree = input('Do you agree with the normality checks? Y/N ')\n",
    "        if agree == 'Y':\n",
    "            break\n",
    "        elif agree == 'N':\n",
    "            while True:\n",
    "                print('')\n",
    "                true_norm = input('Is the distribution of group 1 and 2 normal, respectively? Y/N, Y/N ')\n",
    "                if true_norm == 'Y, N':\n",
    "                    group1_norm = True\n",
    "                    group2_norm = False\n",
    "                    break\n",
    "                elif true_norm == 'N, Y':\n",
    "                    group1_norm = False\n",
    "                    group2_norm = True\n",
    "                    break\n",
    "                elif true_norm == 'N, N':\n",
    "                    group1_norm = False\n",
    "                    group2_norm = False\n",
    "                    break\n",
    "                else:\n",
    "                    print('Please type Y/N, Y/N. ')\n",
    "                        \n",
    "            break\n",
    "        \n",
    "        else:\n",
    "            print('Please type Y or N. ')\n",
    "            \n",
    "    \n",
    "    # Test whether the difference between the groups is statistically significant\n",
    "    print('')\n",
    "    print('Are the differences significant? See below..')\n",
    "    print('The sample consists of ' + str(len(group1_df)) + ' neurotypical and ' + str(len(group2_df)) + ' autistic individuals.')\n",
    "    print('Mean and SD of covariate:')\n",
    "    print('Mean (for NT and ASC) = ' + str(np.mean(group1_df)) + ' and ' + str(np.mean(group2_df)))\n",
    "    print('SD (for NT and ASC) = ' + str(np.std(group1_df)) + ' and ' + str(np.std(group2_df)))\n",
    "    test_sign_diff(group1_df, group1_norm, group2_df, group2_norm, var_equal, paired)\n",
    "    \n",
    "    print('Done!')\n",
    "    "
   ]
  },
  {
   "cell_type": "code",
   "execution_count": null,
   "metadata": {},
   "outputs": [],
   "source": []
  },
  {
   "cell_type": "code",
   "execution_count": null,
   "metadata": {},
   "outputs": [],
   "source": [
    "# --------------------------------------------------------------------------------------------------------------- #"
   ]
  },
  {
   "cell_type": "code",
   "execution_count": null,
   "metadata": {},
   "outputs": [],
   "source": [
    "# ------------------------------------------- A R B A C L O F E N ----------------------------------------------- #"
   ]
  },
  {
   "cell_type": "code",
   "execution_count": null,
   "metadata": {},
   "outputs": [],
   "source": [
    "# # Age and IQ\n",
    "# Create ID lists\n",
    "study_name = 'M'\n",
    "\n",
    "complete_td_list = ['001', '002', '004', '005', '006', '007', '008', '009', '010', '011', '013', '014', '015', \n",
    "                    '016', '017', '018', '019', '020', '021', '022', '030']\n",
    "complete_autism_list = ['101', '102', '103', '104', '105', '106', '107', '108', '109', '110', '112', '113', '114', \n",
    "                        '115', '117', '118', '119', '120', '121', '122', '130']\n",
    "\n",
    "td_list = [study_name + sub_id for sub_id in complete_td_list]\n",
    "autism_list = [study_name + sub_id for sub_id in complete_autism_list]"
   ]
  },
  {
   "cell_type": "code",
   "execution_count": null,
   "metadata": {},
   "outputs": [],
   "source": [
    "check_norm_diff('/Users/mishodimitrov/Downloads/PhD/Analysis/R-baclofen/Data/Covariates',\n",
    "               'Covariates_imputed_with_group_mean_males_only.xlsx',\n",
    "               'Age_IQ',\n",
    "               td_list,\n",
    "               autism_list,\n",
    "               'Age',\n",
    "               paired=False)"
   ]
  },
  {
   "cell_type": "code",
   "execution_count": null,
   "metadata": {},
   "outputs": [],
   "source": [
    "check_norm_diff('/Users/mishodimitrov/Downloads/PhD/Analysis/R-baclofen/Data/Covariates',\n",
    "               'Covariates_imputed_with_group_mean_males_only.xlsx',\n",
    "               'Age_IQ',\n",
    "               td_list,\n",
    "               autism_list,\n",
    "               'IQ',\n",
    "               paired=False)"
   ]
  },
  {
   "cell_type": "code",
   "execution_count": null,
   "metadata": {},
   "outputs": [],
   "source": []
  },
  {
   "cell_type": "code",
   "execution_count": null,
   "metadata": {},
   "outputs": [],
   "source": [
    "# # mFD\n",
    "\n",
    "# Create ID lists\n",
    "study_name = 'M'\n",
    "\n",
    "placebo_td = ['001A', '002C', '004B', '005B', '006C', '007A', '008A', '009C', '010A', '011B', '013B', '014A', \n",
    "              '015C', '016C', '020B', '021A', '022A']\n",
    "placebo_autism = ['101A', '102C', '105B', '107A', '108A', '109C', '110A', '112B', '113B', '114A', '115C', '117C', \n",
    "                  '118B', '119C', '120B', '121A', '122A', '130C']\n",
    "\n",
    "placebo_td_mFD = [study_name + sub_id for sub_id in placebo_td]\n",
    "placebo_autism_mFD = [study_name + sub_id for sub_id in placebo_autism]\n",
    "\n",
    "arbaclofen_td = ['001B', '002B', '004A', '005C', '007C', '008B', '009B', '010C', '011C', '013A', '014B', '015B',\n",
    "                '017A', '018A', '019A', '020C', '021C', '022C', '030A']\n",
    "arbaclofen_autism = ['101B', '103A', '104A', '105C', '106A', '107C', '108B', '109B', '110C', '112A', '113A', '114B',\n",
    "                    '115B', '118A', '119A', '120C', '121C']\n",
    "\n",
    "arbaclofen_td_mFD = [study_name + sub_id for sub_id in arbaclofen_td]\n",
    "arbaclofen_autism_mFD = [study_name + sub_id for sub_id in arbaclofen_autism]\n",
    "\n",
    "td_paired_mFD = [i[:-1] for i in placebo_td if i[:-1] in [j[:-1] for j in arbaclofen_td]]\n",
    "placebo_td_mFD_paired = [study_name + i for i in placebo_td if i[:-1] in td_paired_mFD]\n",
    "arbaclofen_td_mFD_paired = [study_name + i for i in arbaclofen_td if i[:-1] in td_paired_mFD]\n",
    "\n",
    "autism_paired_mFD = [i[:-1] for i in placebo_autism if i[:-1] in [j[:-1] for j in arbaclofen_autism]]\n",
    "placebo_autism_mFD_paired = [study_name + i for i in placebo_autism if i[:-1] in autism_paired_mFD]\n",
    "arbaclofen_autism_mFD_paired = [study_name + i for i in arbaclofen_autism if i[:-1] in autism_paired_mFD]"
   ]
  },
  {
   "cell_type": "code",
   "execution_count": null,
   "metadata": {},
   "outputs": [],
   "source": []
  },
  {
   "cell_type": "code",
   "execution_count": null,
   "metadata": {},
   "outputs": [],
   "source": [
    "check_norm_diff('/Users/mishodimitrov/Downloads/PhD/Analysis/R-baclofen/Data/Covariates',\n",
    "               'Covariates_imputed_with_group_mean_males_only.xlsx',\n",
    "               'mFD',\n",
    "               placebo_td_mFD,\n",
    "               placebo_autism_mFD,\n",
    "               'mFD',\n",
    "               paired=False)"
   ]
  },
  {
   "cell_type": "code",
   "execution_count": null,
   "metadata": {},
   "outputs": [],
   "source": [
    "check_norm_diff('/Users/mishodimitrov/Downloads/PhD/Analysis/R-baclofen/Data/Covariates',\n",
    "               'Covariates_imputed_with_group_mean_males_only.xlsx',\n",
    "               'mFD',\n",
    "               arbaclofen_td_mFD,\n",
    "               arbaclofen_autism_mFD,\n",
    "               'mFD',\n",
    "               paired=False)"
   ]
  },
  {
   "cell_type": "code",
   "execution_count": null,
   "metadata": {},
   "outputs": [],
   "source": []
  },
  {
   "cell_type": "code",
   "execution_count": null,
   "metadata": {},
   "outputs": [],
   "source": [
    "check_norm_diff('/Users/mishodimitrov/Downloads/PhD/Analysis/R-baclofen/Data/Covariates',\n",
    "               'Covariates_imputed_with_group_mean_males_only.xlsx',\n",
    "               'mFD',\n",
    "               placebo_td_mFD_paired,\n",
    "               arbaclofen_td_mFD_paired,\n",
    "               'mFD',\n",
    "               paired=True)"
   ]
  },
  {
   "cell_type": "code",
   "execution_count": null,
   "metadata": {},
   "outputs": [],
   "source": []
  },
  {
   "cell_type": "code",
   "execution_count": null,
   "metadata": {},
   "outputs": [],
   "source": [
    "check_norm_diff('/Users/mishodimitrov/Downloads/PhD/Analysis/R-baclofen/Data/Covariates',\n",
    "               'Covariates_imputed_with_group_mean_males_only.xlsx',\n",
    "               'mFD',\n",
    "               placebo_autism_mFD_paired,\n",
    "               arbaclofen_autism_mFD_paired,\n",
    "               'mFD',\n",
    "               paired=True)"
   ]
  },
  {
   "cell_type": "code",
   "execution_count": null,
   "metadata": {},
   "outputs": [],
   "source": []
  },
  {
   "cell_type": "code",
   "execution_count": null,
   "metadata": {},
   "outputs": [],
   "source": [
    "# --------------------------------------------------------------------------------------------------------------- #"
   ]
  },
  {
   "cell_type": "code",
   "execution_count": null,
   "metadata": {},
   "outputs": [],
   "source": [
    "# ------------------------------------------- C I T A L O P R A M ----------------------------------------------- #"
   ]
  },
  {
   "cell_type": "code",
   "execution_count": null,
   "metadata": {},
   "outputs": [],
   "source": [
    "# # Age and IQ\n",
    "# Create ID lists\n",
    "study_name = 'BRCTRADA'\n",
    "\n",
    "complete_td_list = ['001', '003', '004', '007', '008', '009', '010', '011', '012', '013', '014', '015', \n",
    "                    '016', '017', '019', '020', '021', '022', '023']\n",
    "complete_autism_list = ['101', '102', '103', '104', '105', '106', '107', '108', '109', '110', '111', '112', '113',\n",
    "                        '114', '116', '117', '119', '120', '123']\n",
    "\n",
    "td_list = [study_name + sub_id for sub_id in complete_td_list]\n",
    "autism_list = [study_name + sub_id for sub_id in complete_autism_list]"
   ]
  },
  {
   "cell_type": "code",
   "execution_count": null,
   "metadata": {},
   "outputs": [],
   "source": [
    "check_norm_diff('/Users/mishodimitrov/Downloads/PhD/Analysis/Citalopram/Data/Covariates',\n",
    "               'Covariates.xlsx',\n",
    "               'Age_IQ_basemFD',\n",
    "               td_list,\n",
    "               autism_list,\n",
    "               'Age',\n",
    "               paired=False)"
   ]
  },
  {
   "cell_type": "code",
   "execution_count": null,
   "metadata": {},
   "outputs": [],
   "source": [
    "check_norm_diff('/Users/mishodimitrov/Downloads/PhD/Analysis/Citalopram/Data/Covariates',\n",
    "               'Covariates.xlsx',\n",
    "               'Age_IQ_basemFD',\n",
    "               td_list,\n",
    "               autism_list,\n",
    "               'IQ',\n",
    "               paired=False)"
   ]
  },
  {
   "cell_type": "code",
   "execution_count": null,
   "metadata": {},
   "outputs": [],
   "source": [
    "# without 108! (only a citalopram session)\n",
    "#autism_list.remove('BRCTRADA108')\n",
    "#check_norm_diff('/Users/mishodimitrov/Downloads/PhD/Analysis/Citalopram/Data/Covariates',\n",
    "#               'Covariates.xlsx',\n",
    "#               'Age_IQ_basemFD',\n",
    "#               td_list,\n",
    "#               autism_list,\n",
    "#               'mFD',\n",
    "#               paired=False)"
   ]
  },
  {
   "cell_type": "code",
   "execution_count": null,
   "metadata": {},
   "outputs": [],
   "source": []
  },
  {
   "cell_type": "code",
   "execution_count": null,
   "metadata": {},
   "outputs": [],
   "source": [
    "# # mFD\n",
    "\n",
    "# Create ID lists\n",
    "study_name = 'BRCTRADA'\n",
    "\n",
    "placebo_td = ['001D', '003D', '004D', '007D', '008C', '009B', '010C', '011B', '012C', '013C', '014B', '015D', '016B',\n",
    "          '017D', '019B', '020B', '021C', '022C', '023D']\n",
    "placebo_autism = ['101D', '102C', '103C', '104B', '105B', '106B', '107C', '109C', '110C', '111D', '112B', '113D', \n",
    "                  '114D', '116B', '117B', '119C', '120C', '123B']\n",
    "\n",
    "placebo_td_mFD = [study_name + sub_id for sub_id in placebo_td]\n",
    "placebo_autism_mFD = [study_name + sub_id for sub_id in placebo_autism]\n",
    "\n",
    "citalopram_td = ['001C', '004B', '007B', '008B', '009D', '010D', '011C', '012D', '014D', '015C', '016C', '017C', \n",
    "                 '020D', '021D', '022B', '023C']\n",
    "citalopram_autism = ['101B', '102D', '103B', '104C', '105C', '106D', '107B', '108C', '109D', '110D', '112D', \n",
    "                     '114C', '116D', '117C', '119B', '120D', '123D']\n",
    "\n",
    "citalopram_td_mFD = [study_name + sub_id for sub_id in citalopram_td]\n",
    "citalopram_autism_mFD = [study_name + sub_id for sub_id in citalopram_autism]\n",
    "\n",
    "td_paired_mFD = [i[:-1] for i in placebo_td if i[:-1] in [j[:-1] for j in citalopram_td]]\n",
    "placebo_td_mFD_paired = [study_name + i for i in placebo_td if i[:-1] in td_paired_mFD]\n",
    "citalopram_td_mFD_paired = [study_name + i for i in citalopram_td if i[:-1] in td_paired_mFD]\n",
    "\n",
    "autism_paired_mFD = [i[:-1] for i in placebo_autism if i[:-1] in [j[:-1] for j in citalopram_autism]]\n",
    "placebo_autism_mFD_paired = [study_name + i for i in placebo_autism if i[:-1] in autism_paired_mFD]\n",
    "citalopram_autism_mFD_paired = [study_name + i for i in citalopram_autism if i[:-1] in autism_paired_mFD]"
   ]
  },
  {
   "cell_type": "code",
   "execution_count": null,
   "metadata": {},
   "outputs": [],
   "source": []
  },
  {
   "cell_type": "code",
   "execution_count": null,
   "metadata": {},
   "outputs": [],
   "source": [
    "check_norm_diff('/Users/mishodimitrov/Downloads/PhD/Analysis/Citalopram/Data/Covariates',\n",
    "               'mFD_complete.xlsx',\n",
    "               'mFD_complete',\n",
    "               citalopram_td_mFD,\n",
    "               citalopram_autism_mFD,\n",
    "               'mFD',\n",
    "               paired=False)"
   ]
  },
  {
   "cell_type": "code",
   "execution_count": null,
   "metadata": {},
   "outputs": [],
   "source": []
  },
  {
   "cell_type": "code",
   "execution_count": null,
   "metadata": {},
   "outputs": [],
   "source": [
    "check_norm_diff('/Users/mishodimitrov/Downloads/PhD/Analysis/Citalopram/Data/Covariates',\n",
    "               'mFD_complete.xlsx',\n",
    "               'mFD_complete',\n",
    "               placebo_td_mFD_paired,\n",
    "               citalopram_td_mFD_paired,\n",
    "               'mFD',\n",
    "               paired=True)"
   ]
  },
  {
   "cell_type": "code",
   "execution_count": null,
   "metadata": {},
   "outputs": [],
   "source": []
  },
  {
   "cell_type": "code",
   "execution_count": null,
   "metadata": {},
   "outputs": [],
   "source": [
    "check_norm_diff('/Users/mishodimitrov/Downloads/PhD/Analysis/Citalopram/Data/Covariates',\n",
    "               'mFD_complete.xlsx',\n",
    "               'mFD_complete',\n",
    "               placebo_autism_mFD_paired,\n",
    "               citalopram_autism_mFD_paired,\n",
    "               'mFD',\n",
    "               paired=True)"
   ]
  },
  {
   "cell_type": "code",
   "execution_count": null,
   "metadata": {},
   "outputs": [],
   "source": []
  },
  {
   "cell_type": "code",
   "execution_count": null,
   "metadata": {},
   "outputs": [],
   "source": [
    "# --------------------------------------------------------------------------------------------------------------- #"
   ]
  },
  {
   "cell_type": "code",
   "execution_count": null,
   "metadata": {},
   "outputs": [],
   "source": [
    "# ------------------------------------------- T I A N E P T I N E ----------------------------------------------- #"
   ]
  },
  {
   "cell_type": "code",
   "execution_count": null,
   "metadata": {},
   "outputs": [],
   "source": []
  },
  {
   "cell_type": "code",
   "execution_count": null,
   "metadata": {},
   "outputs": [],
   "source": [
    "# # Age and IQ\n",
    "\n",
    "# Create ID lists\n",
    "study_name = 'BRCTRADA'\n",
    "\n",
    "complete_td_list = ['001', '003', '004', '007', '008', '009', '010', '011', '012', '013', '014', '015', '016', '017', '019', '020', '021', '022', '023']\n",
    "complete_autism_list = ['101', '102', '103', '104', '105', '106', '107', '108', '109', '110', '111', '112', '113', '114', '116', '117', '119', '120', '123']\n",
    "\n",
    "td_list = [study_name + sub_id for sub_id in complete_td_list]\n",
    "autism_list = [study_name + sub_id for sub_id in complete_autism_list]\n",
    "\n",
    "placebo_td = ['001D', '003D', '004D', '007D', '008C', '009B', '010C', '011B', '012C', '013C', '014B', '015D', '016B', '017D', '019B', '020B', '021C', '022C', '023D']\n",
    "placebo_autism = ['101D', '102C', '103C', '104B', '105B', '106B', '107C', '109C', '110C', '111D', '112B', '113D', '114D', '116B', '117B', '119C', '120C', '123B']\n",
    "\n",
    "placebo_td_list_mFD = [study_name + sub_id for sub_id in placebo_td]\n",
    "placebo_autism_list_mFD = [study_name + sub_id for sub_id in placebo_autism]\n",
    "\n",
    "placebo_td_list = [study_name + sub_id[:3] for sub_id in placebo_td]\n",
    "placebo_autism_list = [study_name + sub_id[:3] for sub_id in placebo_autism]"
   ]
  },
  {
   "cell_type": "code",
   "execution_count": null,
   "metadata": {},
   "outputs": [],
   "source": [
    "check_norm_diff('/Users/mishodimitrov/Downloads/PhD/Analysis/Tianeptine/Data/Covariates',\n",
    "               'Covariates.xlsx',\n",
    "               'data',\n",
    "               td_list,\n",
    "               autism_list,\n",
    "               'Age',\n",
    "               paired=False)"
   ]
  },
  {
   "cell_type": "code",
   "execution_count": null,
   "metadata": {},
   "outputs": [],
   "source": [
    "check_norm_diff('/Users/mishodimitrov/Downloads/PhD/Analysis/Tianeptine/Data/Covariates',\n",
    "               'Covariates.xlsx',\n",
    "               'data',\n",
    "               td_list,\n",
    "               autism_list,\n",
    "               'IQ', \n",
    "                paired=False)"
   ]
  },
  {
   "cell_type": "code",
   "execution_count": null,
   "metadata": {},
   "outputs": [],
   "source": [
    "check_norm_diff('/Users/mishodimitrov/Downloads/PhD/Analysis/Tianeptine/Data/Covariates',\n",
    "               'mFD_complete.xlsx',\n",
    "               'mFD_complete',\n",
    "               placebo_td_list_mFD,\n",
    "               placebo_autism_list_mFD,\n",
    "               'mFD',\n",
    "               paired=False)"
   ]
  },
  {
   "cell_type": "code",
   "execution_count": null,
   "metadata": {},
   "outputs": [],
   "source": []
  },
  {
   "cell_type": "code",
   "execution_count": null,
   "metadata": {},
   "outputs": [],
   "source": []
  },
  {
   "cell_type": "code",
   "execution_count": null,
   "metadata": {},
   "outputs": [],
   "source": [
    "# # mFD\n",
    "\n",
    "# Create ID lists\n",
    "study_name = 'BRCTRADA'\n",
    "tianeptine_td = ['001B', '003C', '004C', '007C', '008D', '009C', '010B', '011D', '012B', '013D', '014C', '015B',\n",
    "              '016D', '017B', '019C', '020C', '021B', '022D', '023B']\n",
    "tianeptine_autism = ['101C', '102B', '103D', '104D', '105D', '106C', '107D',\n",
    "          '109B', '110B', '112C', '113C', '114B', '116C', '117D', '119D', '120B', '123C']\n",
    "\n",
    "tianeptine_td_list_mFD = [study_name + sub_id for sub_id in tianeptine_td]\n",
    "tianeptine_autism_list_mFD = [study_name + sub_id for sub_id in tianeptine_autism]\n",
    "\n",
    "tianeptine_td_list = [study_name + sub_id[:3] for sub_id in tianeptine_td]\n",
    "tianeptine_autism_list = [study_name + sub_id[:3] for sub_id in tianeptine_autism]"
   ]
  },
  {
   "cell_type": "code",
   "execution_count": null,
   "metadata": {},
   "outputs": [],
   "source": [
    "check_norm_diff('/Users/mishodimitrov/Downloads/PhD/Analysis/Tianeptine/Data/Covariates',\n",
    "               'mFD_complete.xlsx',\n",
    "               'mFD_complete',\n",
    "               tianeptine_td_list_mFD,\n",
    "               tianeptine_autism_list_mFD,\n",
    "               'mFD',\n",
    "               paired=False)"
   ]
  },
  {
   "cell_type": "code",
   "execution_count": null,
   "metadata": {},
   "outputs": [],
   "source": []
  },
  {
   "cell_type": "code",
   "execution_count": null,
   "metadata": {},
   "outputs": [],
   "source": []
  },
  {
   "cell_type": "code",
   "execution_count": null,
   "metadata": {},
   "outputs": [],
   "source": [
    "# Also compare within groups"
   ]
  },
  {
   "cell_type": "code",
   "execution_count": null,
   "metadata": {},
   "outputs": [],
   "source": [
    "check_norm_diff('/Users/mishodimitrov/Downloads/PhD/Analysis/Tianeptine/Data/Covariates',\n",
    "               'mFD_complete.xlsx',\n",
    "               'mFD_complete',\n",
    "               placebo_td_list_mFD,\n",
    "               tianeptine_td_list_mFD,\n",
    "               'mFD',\n",
    "               paired=True)"
   ]
  },
  {
   "cell_type": "code",
   "execution_count": null,
   "metadata": {},
   "outputs": [],
   "source": []
  },
  {
   "cell_type": "code",
   "execution_count": null,
   "metadata": {},
   "outputs": [],
   "source": [
    "autism_paired_mFD = [i[:-1] for i in placebo_autism if i[:-1] in [j[:-1] for j in tianeptine_autism]]\n",
    "placebo_autism_mFD_paired = [study_name + i for i in placebo_autism if i[:-1] in autism_paired_mFD]\n",
    "tianeptine_autism_mFD_paired = [study_name + i for i in tianeptine_autism if i[:-1] in autism_paired_mFD]"
   ]
  },
  {
   "cell_type": "code",
   "execution_count": null,
   "metadata": {},
   "outputs": [],
   "source": [
    "check_norm_diff('/Users/mishodimitrov/Downloads/PhD/Analysis/Tianeptine/Data/Covariates',\n",
    "               'mFD_complete.xlsx',\n",
    "               'mFD_complete',\n",
    "               placebo_autism_mFD_paired,\n",
    "               tianeptine_autism_mFD_paired,\n",
    "               'mFD',\n",
    "               paired=True)"
   ]
  },
  {
   "cell_type": "code",
   "execution_count": null,
   "metadata": {},
   "outputs": [],
   "source": []
  },
  {
   "cell_type": "code",
   "execution_count": null,
   "metadata": {},
   "outputs": [],
   "source": []
  },
  {
   "cell_type": "code",
   "execution_count": null,
   "metadata": {},
   "outputs": [],
   "source": [
    "# --------------------------------------------------------------------------------------------------------------- #"
   ]
  },
  {
   "cell_type": "code",
   "execution_count": null,
   "metadata": {},
   "outputs": [],
   "source": [
    "# ----------------------------------------- C A N N A B I D I O L ----------------------------------------------- #"
   ]
  },
  {
   "cell_type": "code",
   "execution_count": null,
   "metadata": {},
   "outputs": [],
   "source": []
  },
  {
   "cell_type": "code",
   "execution_count": 8,
   "metadata": {},
   "outputs": [],
   "source": [
    "# # Age and IQ\n",
    "\n",
    "# Create ID lists\n",
    "study_name = 'CAN'\n",
    "\n",
    "complete_td_list = ['001', '002', '003', '004', '005', '006', '007', '008', '009', '010', '012', '014', '015', \n",
    "                    '016', '017', '018', '020']\n",
    "complete_autism_list = ['101', '102', '103', '104', '105', '106', '109', '110', '111', '112', '114', '115', '117', \n",
    "                        '118', '120']\n",
    "\n",
    "td_list = [study_name + sub_id for sub_id in complete_td_list]\n",
    "autism_list = [study_name + sub_id for sub_id in complete_autism_list]"
   ]
  },
  {
   "cell_type": "code",
   "execution_count": null,
   "metadata": {},
   "outputs": [],
   "source": []
  },
  {
   "cell_type": "code",
   "execution_count": null,
   "metadata": {},
   "outputs": [],
   "source": [
    "check_norm_diff('/Users/mishodimitrov/Downloads/PhD/Analysis/CBD/Data/Covariates',\n",
    "               'Covariates.xlsx',\n",
    "               'Age_IQ',\n",
    "               td_list,\n",
    "               autism_list,\n",
    "               'Age',\n",
    "               paired=False)"
   ]
  },
  {
   "cell_type": "code",
   "execution_count": null,
   "metadata": {},
   "outputs": [],
   "source": [
    "check_norm_diff('/Users/mishodimitrov/Downloads/PhD/Analysis/CBD/Data/Covariates',\n",
    "               'Covariates.xlsx',\n",
    "               'Age_IQ',\n",
    "               td_list,\n",
    "               autism_list,\n",
    "               'IQ',\n",
    "               paired=False)"
   ]
  },
  {
   "cell_type": "code",
   "execution_count": null,
   "metadata": {},
   "outputs": [],
   "source": []
  },
  {
   "cell_type": "code",
   "execution_count": 9,
   "metadata": {},
   "outputs": [],
   "source": [
    "# # mFD\n",
    "\n",
    "# Create ID lists\n",
    "\n",
    "placebo_td = ['001C', '002B', '003C', '004A', '005B', '006A', '007A', '008B', '009C', '010A', '012B', '014C', \n",
    "              '015B', '016B', '017B', '018B', '020A']\n",
    "placebo_autism = ['101B', '102A', '103A', '105C', '106C', '109A', '110C', '111B', '112A', '114C', '115B', '117B', \n",
    "                        '118A', '120A']\n",
    "\n",
    "placebo_td_mFD = [sub_id for sub_id in placebo_td]\n",
    "placebo_autism_mFD = [sub_id for sub_id in placebo_autism]\n",
    "\n",
    "cbd_td = ['001A', '002A', '003B', '004B', '005C', '006C', '007B', '008C', '009B', '010C', '012A', '014B', '015C', \n",
    "                    '016A', '017A', '018C', '020B']\n",
    "cbd_autism = ['101C', '103B', '104A', '105B', '106A', '109C', '111C', '112C', '114A', '115C', '117C', \n",
    "                        '118B', '120B']\n",
    "\n",
    "cbd_td_mFD = [sub_id for sub_id in cbd_td]\n",
    "cbd_autism_mFD = [sub_id for sub_id in cbd_autism]\n",
    "\n",
    "td_paired_mFD = [i[:-1] for i in placebo_td if i[:-1] in [j[:-1] for j in cbd_td]]\n",
    "placebo_td_mFD_paired = [i for i in placebo_td if i[:-1] in td_paired_mFD]\n",
    "cbd_td_mFD_paired = [i for i in cbd_td if i[:-1] in td_paired_mFD]\n",
    "\n",
    "autism_paired_mFD = [i[:-1] for i in placebo_autism if i[:-1] in [j[:-1] for j in cbd_autism]]\n",
    "placebo_autism_mFD_paired = [i for i in placebo_autism if i[:-1] in autism_paired_mFD]\n",
    "cbd_autism_mFD_paired = [i for i in cbd_autism if i[:-1] in autism_paired_mFD]"
   ]
  },
  {
   "cell_type": "code",
   "execution_count": null,
   "metadata": {},
   "outputs": [],
   "source": []
  },
  {
   "cell_type": "code",
   "execution_count": 10,
   "metadata": {},
   "outputs": [
    {
     "name": "stdout",
     "output_type": "stream",
     "text": [
      "Normality check for group 1:\n"
     ]
    },
    {
     "data": {
      "image/png": "[encoded data removed]",
      "text/plain": [
       "<Figure size 432x288 with 1 Axes>"
      ]
     },
     "metadata": {
      "needs_background": "light"
     },
     "output_type": "display_data"
    },
    {
     "data": {
      "image/png": "[encoded data removed]",
      "text/plain": [
       "<Figure size 432x288 with 1 Axes>"
      ]
     },
     "metadata": {
      "needs_background": "light"
     },
     "output_type": "display_data"
    },
    {
     "name": "stdout",
     "output_type": "stream",
     "text": [
      "t-statistic = 0.8834710121\n",
      "P-value = 0.0362087972\n",
      "The null hypothesis can be rejected. The sample is NOT normally distributed.\n",
      "\n",
      "Normality check for group 2:\n"
     ]
    },
    {
     "data": {
      "image/png": "[encoded data removed]",
      "text/plain": [
       "<Figure size 432x288 with 1 Axes>"
      ]
     },
     "metadata": {
      "needs_background": "light"
     },
     "output_type": "display_data"
    },
    {
     "data": {
      "image/png": "[encoded data removed]",
      "text/plain": [
       "<Figure size 432x288 with 1 Axes>"
      ]
     },
     "metadata": {
      "needs_background": "light"
     },
     "output_type": "display_data"
    },
    {
     "name": "stdout",
     "output_type": "stream",
     "text": [
      "t-statistic = 0.8639205098\n",
      "P-value = 0.0345049202\n",
      "The null hypothesis can be rejected. The sample is NOT normally distributed.\n",
      "\n",
      "Testing equality of variances..\n",
      "The null hypothesis can be rejected. X and Y do NOT have equal variances.\n",
      "\n",
      "Equality of variances is = False\n"
     ]
    },
    {
     "data": {
      "image/png": "[encoded data removed]",
      "text/plain": [
       "<Figure size 1440x576 with 1 Axes>"
      ]
     },
     "metadata": {
      "needs_background": "light"
     },
     "output_type": "display_data"
    },
    {
     "name": "stdout",
     "output_type": "stream",
     "text": [
      "\n",
      "Do you agree with the normality checks? Y/N Y\n",
      "\n",
      "Are the differences significant? See below..\n",
      "The sample consists of 17 neurotypical and 14 autistic individuals.\n",
      "Mean and SD of covariate:\n",
      "Mean (for NT and ASC) = 0.10818872829963225 and 0.2527852942187498\n",
      "SD (for NT and ASC) = 0.040655696649879704 and 0.1297982649453013\n",
      "u = 32\n",
      "prob = 0.000297867\n",
      "P-value = 0.0005957342857043613\n",
      "Done!\n"
     ]
    }
   ],
   "source": [
    "check_norm_diff('/Users/mishodimitrov/Downloads/PhD/Analysis/CBD/Data/Covariates',\n",
    "               'Covariates.xlsx',\n",
    "               'Complete',\n",
    "               placebo_td_mFD,\n",
    "               placebo_autism_mFD,\n",
    "               'mFD',\n",
    "               paired=False)"
   ]
  },
  {
   "cell_type": "code",
   "execution_count": null,
   "metadata": {},
   "outputs": [],
   "source": []
  },
  {
   "cell_type": "code",
   "execution_count": 11,
   "metadata": {},
   "outputs": [
    {
     "name": "stdout",
     "output_type": "stream",
     "text": [
      "Normality check for group 1:\n"
     ]
    },
    {
     "data": {
      "image/png": "[encoded data removed]",
      "text/plain": [
       "<Figure size 432x288 with 1 Axes>"
      ]
     },
     "metadata": {
      "needs_background": "light"
     },
     "output_type": "display_data"
    },
    {
     "data": {
      "image/png": "[encoded data removed]",
      "text/plain": [
       "<Figure size 432x288 with 1 Axes>"
      ]
     },
     "metadata": {
      "needs_background": "light"
     },
     "output_type": "display_data"
    },
    {
     "name": "stdout",
     "output_type": "stream",
     "text": [
      "t-statistic = 0.7696630955\n",
      "P-value = 0.0008016673\n",
      "The null hypothesis can be rejected. The sample is NOT normally distributed.\n",
      "\n",
      "Normality check for group 2:\n"
     ]
    },
    {
     "data": {
      "image/png": "[encoded data removed]",
      "text/plain": [
       "<Figure size 432x288 with 1 Axes>"
      ]
     },
     "metadata": {
      "needs_background": "light"
     },
     "output_type": "display_data"
    },
    {
     "data": {
      "image/png": "[encoded data removed]",
      "text/plain": [
       "<Figure size 432x288 with 1 Axes>"
      ]
     },
     "metadata": {
      "needs_background": "light"
     },
     "output_type": "display_data"
    },
    {
     "name": "stdout",
     "output_type": "stream",
     "text": [
      "t-statistic = 0.6441621780\n",
      "P-value = 0.0001618958\n",
      "The null hypothesis can be rejected. The sample is NOT normally distributed.\n",
      "\n",
      "Testing equality of variances..\n",
      "The null hypothesis cannot be rejected. X and Y have equal variances.\n",
      "\n",
      "Equality of variances is = True\n"
     ]
    },
    {
     "data": {
      "image/png": "[encoded data removed]",
      "text/plain": [
       "<Figure size 1440x576 with 1 Axes>"
      ]
     },
     "metadata": {
      "needs_background": "light"
     },
     "output_type": "display_data"
    },
    {
     "name": "stdout",
     "output_type": "stream",
     "text": [
      "\n",
      "Do you agree with the normality checks? Y/N Y\n",
      "\n",
      "Are the differences significant? See below..\n",
      "The sample consists of 17 neurotypical and 13 autistic individuals.\n",
      "Mean and SD of covariate:\n",
      "Mean (for NT and ASC) = 0.13644896562270215 and 0.27695111429687497\n",
      "SD (for NT and ASC) = 0.08244086698267358 and 0.2554120448441305\n",
      "u = 56\n",
      "prob = 0.0119108\n",
      "P-value = 0.02382158674761137\n",
      "Done!\n"
     ]
    }
   ],
   "source": [
    "check_norm_diff('/Users/mishodimitrov/Downloads/PhD/Analysis/CBD/Data/Covariates',\n",
    "               'Covariates.xlsx',\n",
    "               'Complete',\n",
    "               cbd_td_mFD,\n",
    "               cbd_autism_mFD,\n",
    "               'mFD',\n",
    "               paired=False)"
   ]
  },
  {
   "cell_type": "code",
   "execution_count": null,
   "metadata": {},
   "outputs": [],
   "source": []
  },
  {
   "cell_type": "code",
   "execution_count": 12,
   "metadata": {},
   "outputs": [
    {
     "name": "stdout",
     "output_type": "stream",
     "text": [
      "Normality check for group 1:\n"
     ]
    },
    {
     "data": {
      "image/png": "[encoded data removed]",
      "text/plain": [
       "<Figure size 432x288 with 1 Axes>"
      ]
     },
     "metadata": {
      "needs_background": "light"
     },
     "output_type": "display_data"
    },
    {
     "data": {
      "image/png": "[encoded data removed]",
      "text/plain": [
       "<Figure size 432x288 with 1 Axes>"
      ]
     },
     "metadata": {
      "needs_background": "light"
     },
     "output_type": "display_data"
    },
    {
     "name": "stdout",
     "output_type": "stream",
     "text": [
      "t-statistic = 0.8834710121\n",
      "P-value = 0.0362087972\n",
      "The null hypothesis can be rejected. The sample is NOT normally distributed.\n",
      "\n",
      "Normality check for group 2:\n"
     ]
    },
    {
     "data": {
      "image/png": "[encoded data removed]",
      "text/plain": [
       "<Figure size 432x288 with 1 Axes>"
      ]
     },
     "metadata": {
      "needs_background": "light"
     },
     "output_type": "display_data"
    },
    {
     "data": {
      "image/png": "[encoded data removed]",
      "text/plain": [
       "<Figure size 432x288 with 1 Axes>"
      ]
     },
     "metadata": {
      "needs_background": "light"
     },
     "output_type": "display_data"
    },
    {
     "name": "stdout",
     "output_type": "stream",
     "text": [
      "t-statistic = 0.7696630955\n",
      "P-value = 0.0008016673\n",
      "The null hypothesis can be rejected. The sample is NOT normally distributed.\n",
      "\n",
      "Testing equality of variances..\n",
      "The null hypothesis cannot be rejected. X and Y have equal variances.\n",
      "\n",
      "Equality of variances is = True\n"
     ]
    },
    {
     "data": {
      "image/png": "[encoded data removed]",
      "text/plain": [
       "<Figure size 1440x576 with 1 Axes>"
      ]
     },
     "metadata": {
      "needs_background": "light"
     },
     "output_type": "display_data"
    },
    {
     "name": "stdout",
     "output_type": "stream",
     "text": [
      "\n",
      "Do you agree with the normality checks? Y/N Y\n",
      "\n",
      "Are the differences significant? See below..\n",
      "The sample consists of 17 neurotypical and 17 autistic individuals.\n",
      "Mean and SD of covariate:\n",
      "Mean (for NT and ASC) = 0.10818872829963225 and 0.13644896562270215\n",
      "SD (for NT and ASC) = 0.040655696649879704 and 0.08244086698267358\n",
      "WilcoxonResult(statistic=25.0, pvalue=0.0128631591796875)\n",
      "Done!\n"
     ]
    }
   ],
   "source": [
    "check_norm_diff('/Users/mishodimitrov/Downloads/PhD/Analysis/CBD/Data/Covariates',\n",
    "               'Covariates.xlsx',\n",
    "               'Complete',\n",
    "               placebo_td_mFD_paired,\n",
    "               cbd_td_mFD_paired,\n",
    "               'mFD',\n",
    "               paired=True)"
   ]
  },
  {
   "cell_type": "code",
   "execution_count": null,
   "metadata": {},
   "outputs": [],
   "source": []
  },
  {
   "cell_type": "code",
   "execution_count": null,
   "metadata": {},
   "outputs": [],
   "source": [
    "check_norm_diff('/Users/mishodimitrov/Downloads/PhD/Analysis/CBD/Data/Covariates',\n",
    "               'Covariates.xlsx',\n",
    "               'Complete',\n",
    "               placebo_autism_mFD_paired,\n",
    "               cbd_autism_mFD_paired,\n",
    "               'mFD',\n",
    "               paired=True)"
   ]
  },
  {
   "cell_type": "code",
   "execution_count": null,
   "metadata": {},
   "outputs": [],
   "source": []
  }
 ],
 "metadata": {
  "kernelspec": {
   "display_name": "Python 3 (ipykernel)",
   "language": "python",
   "name": "python3"
  },
  "language_info": {
   "codemirror_mode": {
    "name": "ipython",
    "version": 3
   },
   "file_extension": ".py",
   "mimetype": "text/x-python",
   "name": "python",
   "nbconvert_exporter": "python",
   "pygments_lexer": "ipython3",
   "version": "3.9.0"
  }
 },
 "nbformat": 4,
 "nbformat_minor": 2
}
