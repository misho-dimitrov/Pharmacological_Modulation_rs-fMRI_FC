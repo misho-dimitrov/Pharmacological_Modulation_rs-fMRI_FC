{
 "cells": [
  {
   "cell_type": "code",
   "execution_count": null,
   "metadata": {},
   "outputs": [],
   "source": [
    "# Check if any two groups differ significantly in terms of age, IQ and in-scanner movement "
   ]
  },
  {
   "cell_type": "code",
   "execution_count": null,
   "metadata": {},
   "outputs": [],
   "source": []
  },
  {
   "cell_type": "code",
   "execution_count": 1,
   "metadata": {},
   "outputs": [],
   "source": [
    "import os\n",
    "\n",
    "import pandas as pd\n",
    "import numpy as np\n",
    "import matplotlib.pyplot as plt\n",
    "from scipy import stats\n",
    "import statsmodels.api as sm\n",
    "import pylab"
   ]
  },
  {
   "cell_type": "code",
   "execution_count": null,
   "metadata": {},
   "outputs": [],
   "source": []
  },
  {
   "cell_type": "code",
   "execution_count": null,
   "metadata": {},
   "outputs": [],
   "source": []
  },
  {
   "cell_type": "code",
   "execution_count": 2,
   "metadata": {},
   "outputs": [],
   "source": [
    "def load_excel_data(excel_file, spreadsheet, group1, group2, covariate):\n",
    "    data = pd.read_excel(excel_file, sheet_name=spreadsheet, engine='openpyxl')\n",
    "    sub_ids = data.iloc[:, 0]\n",
    "    data.index = sub_ids\n",
    "    group1_df = data.loc[[ses for ses in group1], covariate]\n",
    "    group2_df = data.loc[[ses for ses in group2], covariate]\n",
    "    return group1_df, group2_df"
   ]
  },
  {
   "cell_type": "code",
   "execution_count": 3,
   "metadata": {},
   "outputs": [],
   "source": [
    "# Check normality of data\n",
    "def check_norm(data):\n",
    "    # Visualise data in a histogram\n",
    "    plt.hist(data\n",
    "             ,bins = 5\n",
    "            )\n",
    "    plt.show()\n",
    "    \n",
    "    # Create a quantile-quantile (Q-Q) plot\n",
    "    sm.qqplot(data, line='q')\n",
    "    pylab.show()\n",
    "    \n",
    "    # Test normality\n",
    "    t, p = stats.shapiro(data)\n",
    "    alpha = 0.05 #1e-3\n",
    "\n",
    "    print('t-statistic = ' + '{0:.10f}'.format(t))\n",
    "    print('P-value = ' + '{0:.10f}'.format(p))\n",
    "\n",
    "    # null hypothesis: x comes from a normal distribution\n",
    "    if p < alpha:\n",
    "        print(\"The null hypothesis can be rejected. The sample is NOT normally distributed.\")\n",
    "        return False\n",
    "    else:\n",
    "        print(\"The null hypothesis cannot be rejected. The sample is normally distributed.\")\n",
    "        return True"
   ]
  },
  {
   "cell_type": "code",
   "execution_count": 4,
   "metadata": {},
   "outputs": [],
   "source": [
    "# Check for equality of variances\n",
    "def calc_var_equal(d1, norm_d1, d2, norm_d2):\n",
    "    print(\"\")\n",
    "    print(\"Testing equality of variances..\")\n",
    "    alpha = 0.05\n",
    "    # If normally distributed, perform a Bartlett test\n",
    "    if norm_d1 == True and norm_d2 == True:\n",
    "        stat, p = stats.bartlett(d1, d2)\n",
    "    else:\n",
    "    # If non-normally distributed, perform a Levene test\n",
    "        stat, p = stats.levene(d1, d2)\n",
    "\n",
    "    # null hypothesis: x and y have equal variances\n",
    "    if p < alpha:\n",
    "        print(\"The null hypothesis can be rejected. X and Y do NOT have equal variances.\")\n",
    "        return False\n",
    "    else:\n",
    "        print(\"The null hypothesis cannot be rejected. X and Y have equal variances.\")\n",
    "        return True"
   ]
  },
  {
   "cell_type": "code",
   "execution_count": 5,
   "metadata": {},
   "outputs": [],
   "source": [
    "# Do a whisker plot\n",
    "def two_group_whisker_plot(d1, d2):\n",
    "    # https://matplotlib.org/3.1.1/api/_as_gen/matplotlib.pyplot.boxplot.html\n",
    "\n",
    "    fig, ax = plt.subplots(figsize=(20,8))\n",
    "    whisker_figure = ax.boxplot([d1, d2], \n",
    "                              #notch=True, \n",
    "                              #bootstrap=5000, \n",
    "                              showfliers=True)\n",
    "    #ax.set_xticklabels('PUT GROUP NAMES HERE')\n",
    "    plt.show(whisker_figure)"
   ]
  },
  {
   "cell_type": "code",
   "execution_count": 6,
   "metadata": {},
   "outputs": [],
   "source": [
    "# Only for continuous variables!!!\n",
    "def test_sign_diff(d1, norm_d1, d2, norm_d2, var_equal, paired):\n",
    "    # If normally distributed\n",
    "    if norm_d1 == True and norm_d2 == True:\n",
    "        # And with equal variances\n",
    "        if var_equal == True:\n",
    "            if paired == True:\n",
    "                print(stats.ttest_rel(a=d1, b=d2))\n",
    "            elif paired == False:\n",
    "                # Do an independent two-sample Student t-test\n",
    "                print(stats.ttest_ind(a=d1, b=d2, equal_var=True))\n",
    "            else:\n",
    "                print(\"Please enter True or False for the paired argument..\")\n",
    "        # If variances are unequal, perform Welch's test\n",
    "        else:\n",
    "            print(stats.ttest_ind(a=d1, b=d2, equal_var=False))\n",
    "    # If non-normally distributed, conduct a Wilcoxon rank sum (aka Mann-Whitney) test\n",
    "    else:\n",
    "        if paired == True:\n",
    "            print(stats.wilcoxon(d1, d2))\n",
    "        elif paired == False:\n",
    "            #https://docs.scipy.org/doc/scipy-0.14.0/reference/generated/scipy.stats.mannwhitneyu.html\n",
    "            u, prob = stats.mannwhitneyu(d1, d2)\n",
    "            print(\"u = {:g}\".format(u))\n",
    "            print(\"prob = {:g}\".format(prob))\n",
    "            # to get two-sided p-value:\n",
    "            two_sided_prob = 2 * prob\n",
    "            print(\"P-value = \" + str(two_sided_prob))\n",
    "        else:\n",
    "            print(\"Please enter True or False for the paired argument..\")"
   ]
  },
  {
   "cell_type": "code",
   "execution_count": null,
   "metadata": {},
   "outputs": [],
   "source": []
  },
  {
   "cell_type": "code",
   "execution_count": 7,
   "metadata": {},
   "outputs": [],
   "source": [
    "# Check assumptions for the statistical tests and perform the appropriate test\n",
    "def check_norm_diff(work_dir, excel_file, spreadsheet, group1, group2, covariate, paired):\n",
    "    # Go into the working directory\n",
    "    os.chdir(work_dir)\n",
    "    \n",
    "    # Load the data and generate two separate data frames, one for each group\n",
    "    group1_df, group2_df = load_excel_data(excel_file, spreadsheet, group1, group2, covariate)\n",
    "    \n",
    "    # Check normality of each group\n",
    "    print('Normality check for group 1:')\n",
    "    group1_norm = check_norm(group1_df)\n",
    "    print('')\n",
    "    print('Normality check for group 2:')\n",
    "    group2_norm = check_norm(group2_df)\n",
    "    \n",
    "    # Check equality of variances between the two groups\n",
    "    var_equal = calc_var_equal(group1_df, group1_norm, group2_df, group1_norm)\n",
    "    print('')\n",
    "    print('Equality of variances is = ' + str(var_equal))\n",
    "    \n",
    "    # Plot group values in a whisker plot\n",
    "    two_group_whisker_plot(group1_df, group2_df)\n",
    "    \n",
    "    # \"Pause\" the program and ask the user if they agree with the normality checks\n",
    "    print('')\n",
    "    while True:\n",
    "        agree = input('Do you agree with the normality checks? Y/N ')\n",
    "        if agree == 'Y':\n",
    "            break\n",
    "        elif agree == 'N':\n",
    "            while True:\n",
    "                print('')\n",
    "                true_norm = input('Is the distribution of group 1 and 2 normal, respectively? Y/N, Y/N ')\n",
    "                if true_norm == 'Y, N':\n",
    "                    group1_norm = True\n",
    "                    group2_norm = False\n",
    "                    break\n",
    "                elif true_norm == 'N, Y':\n",
    "                    group1_norm = False\n",
    "                    group2_norm = True\n",
    "                    break\n",
    "                elif true_norm == 'N, N':\n",
    "                    group1_norm = False\n",
    "                    group2_norm = False\n",
    "                    break\n",
    "                else:\n",
    "                    print('Please type Y/N, Y/N. ')\n",
    "                        \n",
    "            break\n",
    "        \n",
    "        else:\n",
    "            print('Please type Y or N. ')\n",
    "            \n",
    "    \n",
    "    # Test whether the difference between the groups is statistically significant\n",
    "    print('')\n",
    "    print('Are the differences significant? See below..')\n",
    "    print('The sample consists of ' + str(len(group1_df)) + ' neurotypical and ' + str(len(group2_df)) + ' autistic individuals.')\n",
    "    print('Mean and SD of covariate:')\n",
    "    print('Mean (for NT and ASC) = ' + str(np.mean(group1_df)) + ' and ' + str(np.mean(group2_df)))\n",
    "    print('SD (for NT and ASC) = ' + str(np.std(group1_df)) + ' and ' + str(np.std(group2_df)))\n",
    "    test_sign_diff(group1_df, group1_norm, group2_df, group2_norm, var_equal, paired)\n",
    "    \n",
    "    print('Done!')\n",
    "    "
   ]
  },
  {
   "cell_type": "code",
   "execution_count": null,
   "metadata": {},
   "outputs": [],
   "source": []
  },
  {
   "cell_type": "code",
   "execution_count": null,
   "metadata": {},
   "outputs": [],
   "source": []
  },
  {
   "cell_type": "code",
   "execution_count": 8,
   "metadata": {},
   "outputs": [],
   "source": [
    "# --------------------------------------------------------------------------------------------------------------- #"
   ]
  },
  {
   "cell_type": "code",
   "execution_count": null,
   "metadata": {},
   "outputs": [],
   "source": []
  },
  {
   "cell_type": "code",
   "execution_count": null,
   "metadata": {},
   "outputs": [],
   "source": []
  },
  {
   "cell_type": "code",
   "execution_count": 9,
   "metadata": {},
   "outputs": [],
   "source": [
    "# # Placebo sessions from the Green+Orange dataset\n",
    "\n",
    "# Create ID lists\n",
    "study_name = 'BRCTRADA'\n",
    "placebo_td = ['001D', '003D', '004D', '007D', '008C', '009B', '010C', '011B', '012C', '013C', '014B', '015D', '016B', '017D', '019B', '020B', '021C', '022C', '023D']\n",
    "placebo_autism = ['101D', '102C', '103C', '104B', '105B', '106B', '107C', '109C', '110C', '111D', '112B', '113D', '114D', '116B', '117B', '119C', '120C', '123B']\n",
    "\n",
    "placebo_td_list = [study_name + sub_id[:3] for sub_id in placebo_td]\n",
    "placebo_autism_list = [study_name + sub_id[:3] for sub_id in placebo_autism]"
   ]
  },
  {
   "cell_type": "code",
   "execution_count": 10,
   "metadata": {},
   "outputs": [
    {
     "name": "stdout",
     "output_type": "stream",
     "text": [
      "Normality check for group 1:\n"
     ]
    },
    {
     "data": {
      "image/png": "[encoded data removed]",
      "text/plain": [
       "<Figure size 432x288 with 1 Axes>"
      ]
     },
     "metadata": {
      "needs_background": "light"
     },
     "output_type": "display_data"
    },
    {
     "data": {
      "image/png": "[encoded data removed]",
      "text/plain": [
       "<Figure size 432x288 with 1 Axes>"
      ]
     },
     "metadata": {
      "needs_background": "light"
     },
     "output_type": "display_data"
    },
    {
     "name": "stdout",
     "output_type": "stream",
     "text": [
      "t-statistic = 0.8054091930\n",
      "P-value = 0.0013709435\n",
      "The null hypothesis can be rejected. The sample is NOT normally distributed.\n",
      "\n",
      "Normality check for group 2:\n"
     ]
    },
    {
     "data": {
      "image/png": "[encoded data removed]",
      "text/plain": [
       "<Figure size 432x288 with 1 Axes>"
      ]
     },
     "metadata": {
      "needs_background": "light"
     },
     "output_type": "display_data"
    },
    {
     "data": {
      "image/png": "[encoded data removed]",
      "text/plain": [
       "<Figure size 432x288 with 1 Axes>"
      ]
     },
     "metadata": {
      "needs_background": "light"
     },
     "output_type": "display_data"
    },
    {
     "name": "stdout",
     "output_type": "stream",
     "text": [
      "t-statistic = 0.8078395128\n",
      "P-value = 0.0019642108\n",
      "The null hypothesis can be rejected. The sample is NOT normally distributed.\n",
      "\n",
      "Testing equality of variances..\n",
      "The null hypothesis cannot be rejected. X and Y have equal variances.\n",
      "\n",
      "Equality of variances is = True\n"
     ]
    },
    {
     "data": {
      "image/png": "[encoded data removed]",
      "text/plain": [
       "<Figure size 1440x576 with 1 Axes>"
      ]
     },
     "metadata": {
      "needs_background": "light"
     },
     "output_type": "display_data"
    },
    {
     "name": "stdout",
     "output_type": "stream",
     "text": [
      "\n",
      "Do you agree with the normality checks? Y/N Y\n",
      "\n",
      "Are the differences significant? See below..\n",
      "The sample consists of 19 neurotypical and 18 autistic individuals.\n",
      "Mean and SD of covariate:\n",
      "Mean (for NT and ASC) = 25.842105263157894 and 29.27777777777778\n",
      "SD (for NT and ASC) = 7.213023002252587 and 10.147827110358572\n",
      "u = 145\n",
      "prob = 0.218665\n",
      "P-value = 0.4373308080160584\n",
      "Done!\n"
     ]
    }
   ],
   "source": [
    "check_norm_diff('/Users/mishodimitrov/Downloads/PhD/Analysis/Tianeptine/Data/Covariates',\n",
    "               'Covariates.xlsx',\n",
    "               'data',\n",
    "               placebo_td_list,\n",
    "               placebo_autism_list,\n",
    "               'Age',\n",
    "               paired=False)"
   ]
  },
  {
   "cell_type": "code",
   "execution_count": 11,
   "metadata": {},
   "outputs": [
    {
     "name": "stdout",
     "output_type": "stream",
     "text": [
      "Normality check for group 1:\n"
     ]
    },
    {
     "data": {
      "image/png": "[encoded data removed]",
      "text/plain": [
       "<Figure size 432x288 with 1 Axes>"
      ]
     },
     "metadata": {
      "needs_background": "light"
     },
     "output_type": "display_data"
    },
    {
     "data": {
      "image/png": "[encoded data removed]",
      "text/plain": [
       "<Figure size 432x288 with 1 Axes>"
      ]
     },
     "metadata": {
      "needs_background": "light"
     },
     "output_type": "display_data"
    },
    {
     "name": "stdout",
     "output_type": "stream",
     "text": [
      "t-statistic = 0.9419453144\n",
      "P-value = 0.2857666612\n",
      "The null hypothesis cannot be rejected. The sample is normally distributed.\n",
      "\n",
      "Normality check for group 2:\n"
     ]
    },
    {
     "data": {
      "image/png": "[encoded data removed]",
      "text/plain": [
       "<Figure size 432x288 with 1 Axes>"
      ]
     },
     "metadata": {
      "needs_background": "light"
     },
     "output_type": "display_data"
    },
    {
     "data": {
      "image/png": "[encoded data removed]",
      "text/plain": [
       "<Figure size 432x288 with 1 Axes>"
      ]
     },
     "metadata": {
      "needs_background": "light"
     },
     "output_type": "display_data"
    },
    {
     "name": "stdout",
     "output_type": "stream",
     "text": [
      "t-statistic = 0.9651502371\n",
      "P-value = 0.7031416297\n",
      "The null hypothesis cannot be rejected. The sample is normally distributed.\n",
      "\n",
      "Testing equality of variances..\n",
      "The null hypothesis can be rejected. X and Y do NOT have equal variances.\n",
      "\n",
      "Equality of variances is = False\n"
     ]
    },
    {
     "data": {
      "image/png": "[encoded data removed]",
      "text/plain": [
       "<Figure size 1440x576 with 1 Axes>"
      ]
     },
     "metadata": {
      "needs_background": "light"
     },
     "output_type": "display_data"
    },
    {
     "name": "stdout",
     "output_type": "stream",
     "text": [
      "\n",
      "Do you agree with the normality checks? Y/N Y\n",
      "\n",
      "Are the differences significant? See below..\n",
      "The sample consists of 19 neurotypical and 18 autistic individuals.\n",
      "Mean and SD of covariate:\n",
      "Mean (for NT and ASC) = 114.0 and 110.66666666666667\n",
      "SD (for NT and ASC) = 9.486832980505138 and 15.923427883328248\n",
      "Ttest_indResult(statistic=0.7469443277004986, pvalue=0.46145910603710405)\n",
      "Done!\n"
     ]
    }
   ],
   "source": [
    "check_norm_diff('/Users/mishodimitrov/Downloads/PhD/Analysis/Tianeptine/Data/Covariates',\n",
    "               'Covariates.xlsx',\n",
    "               'data',\n",
    "               placebo_td_list,\n",
    "               placebo_autism_list,\n",
    "               'IQ', \n",
    "                paired=False)"
   ]
  },
  {
   "cell_type": "code",
   "execution_count": 12,
   "metadata": {},
   "outputs": [
    {
     "name": "stdout",
     "output_type": "stream",
     "text": [
      "Normality check for group 1:\n"
     ]
    },
    {
     "data": {
      "image/png": "[encoded data removed]",
      "text/plain": [
       "<Figure size 432x288 with 1 Axes>"
      ]
     },
     "metadata": {
      "needs_background": "light"
     },
     "output_type": "display_data"
    },
    {
     "data": {
      "image/png": "[encoded data removed]",
      "text/plain": [
       "<Figure size 432x288 with 1 Axes>"
      ]
     },
     "metadata": {
      "needs_background": "light"
     },
     "output_type": "display_data"
    },
    {
     "name": "stdout",
     "output_type": "stream",
     "text": [
      "t-statistic = 0.7179619074\n",
      "P-value = 0.0000917243\n",
      "The null hypothesis can be rejected. The sample is NOT normally distributed.\n",
      "\n",
      "Normality check for group 2:\n"
     ]
    },
    {
     "data": {
      "image/png": "[encoded data removed]",
      "text/plain": [
       "<Figure size 432x288 with 1 Axes>"
      ]
     },
     "metadata": {
      "needs_background": "light"
     },
     "output_type": "display_data"
    },
    {
     "data": {
      "image/png": "[encoded data removed]",
      "text/plain": [
       "<Figure size 432x288 with 1 Axes>"
      ]
     },
     "metadata": {
      "needs_background": "light"
     },
     "output_type": "display_data"
    },
    {
     "name": "stdout",
     "output_type": "stream",
     "text": [
      "t-statistic = 0.5213336945\n",
      "P-value = 0.0000012346\n",
      "The null hypothesis can be rejected. The sample is NOT normally distributed.\n",
      "\n",
      "Testing equality of variances..\n",
      "The null hypothesis cannot be rejected. X and Y have equal variances.\n",
      "\n",
      "Equality of variances is = True\n"
     ]
    },
    {
     "data": {
      "image/png": "[encoded data removed]",
      "text/plain": [
       "<Figure size 1440x576 with 1 Axes>"
      ]
     },
     "metadata": {
      "needs_background": "light"
     },
     "output_type": "display_data"
    },
    {
     "name": "stdout",
     "output_type": "stream",
     "text": [
      "\n"
     ]
    },
    {
     "ename": "KeyboardInterrupt",
     "evalue": "Interrupted by user",
     "output_type": "error",
     "traceback": [
      "\u001b[0;31m---------------------------------------------------------------------------\u001b[0m",
      "\u001b[0;31mKeyboardInterrupt\u001b[0m                         Traceback (most recent call last)",
      "Input \u001b[0;32mIn [12]\u001b[0m, in \u001b[0;36m<cell line: 1>\u001b[0;34m()\u001b[0m\n\u001b[0;32m----> 1\u001b[0m \u001b[43mcheck_norm_diff\u001b[49m\u001b[43m(\u001b[49m\u001b[38;5;124;43m'\u001b[39;49m\u001b[38;5;124;43m/Users/mishodimitrov/Downloads/PhD/Analysis/Tianeptine/Data/Covariates\u001b[39;49m\u001b[38;5;124;43m'\u001b[39;49m\u001b[43m,\u001b[49m\n\u001b[1;32m      2\u001b[0m \u001b[43m               \u001b[49m\u001b[38;5;124;43m'\u001b[39;49m\u001b[38;5;124;43mCovariates.xlsx\u001b[39;49m\u001b[38;5;124;43m'\u001b[39;49m\u001b[43m,\u001b[49m\n\u001b[1;32m      3\u001b[0m \u001b[43m               \u001b[49m\u001b[38;5;124;43m'\u001b[39;49m\u001b[38;5;124;43mdata\u001b[39;49m\u001b[38;5;124;43m'\u001b[39;49m\u001b[43m,\u001b[49m\n\u001b[1;32m      4\u001b[0m \u001b[43m               \u001b[49m\u001b[43mplacebo_td_list\u001b[49m\u001b[43m,\u001b[49m\n\u001b[1;32m      5\u001b[0m \u001b[43m               \u001b[49m\u001b[43mplacebo_autism_list\u001b[49m\u001b[43m,\u001b[49m\n\u001b[1;32m      6\u001b[0m \u001b[43m               \u001b[49m\u001b[38;5;124;43m'\u001b[39;49m\u001b[38;5;124;43mmFD\u001b[39;49m\u001b[38;5;124;43m'\u001b[39;49m\u001b[43m,\u001b[49m\n\u001b[1;32m      7\u001b[0m \u001b[43m               \u001b[49m\u001b[43mpaired\u001b[49m\u001b[38;5;241;43m=\u001b[39;49m\u001b[38;5;28;43;01mFalse\u001b[39;49;00m\u001b[43m)\u001b[49m\n",
      "Input \u001b[0;32mIn [7]\u001b[0m, in \u001b[0;36mcheck_norm_diff\u001b[0;34m(work_dir, excel_file, spreadsheet, group1, group2, covariate, paired)\u001b[0m\n\u001b[1;32m     25\u001b[0m \u001b[38;5;28mprint\u001b[39m(\u001b[38;5;124m'\u001b[39m\u001b[38;5;124m'\u001b[39m)\n\u001b[1;32m     26\u001b[0m \u001b[38;5;28;01mwhile\u001b[39;00m \u001b[38;5;28;01mTrue\u001b[39;00m:\n\u001b[0;32m---> 27\u001b[0m     agree \u001b[38;5;241m=\u001b[39m \u001b[38;5;28;43minput\u001b[39;49m\u001b[43m(\u001b[49m\u001b[38;5;124;43m'\u001b[39;49m\u001b[38;5;124;43mDo you agree with the normality checks? Y/N \u001b[39;49m\u001b[38;5;124;43m'\u001b[39;49m\u001b[43m)\u001b[49m\n\u001b[1;32m     28\u001b[0m     \u001b[38;5;28;01mif\u001b[39;00m agree \u001b[38;5;241m==\u001b[39m \u001b[38;5;124m'\u001b[39m\u001b[38;5;124mY\u001b[39m\u001b[38;5;124m'\u001b[39m:\n\u001b[1;32m     29\u001b[0m         \u001b[38;5;28;01mbreak\u001b[39;00m\n",
      "File \u001b[0;32m~/opt/anaconda3/envs/static_FC_gt/lib/python3.9/site-packages/ipykernel/kernelbase.py:1075\u001b[0m, in \u001b[0;36mKernel.raw_input\u001b[0;34m(self, prompt)\u001b[0m\n\u001b[1;32m   1071\u001b[0m \u001b[38;5;28;01mif\u001b[39;00m \u001b[38;5;129;01mnot\u001b[39;00m \u001b[38;5;28mself\u001b[39m\u001b[38;5;241m.\u001b[39m_allow_stdin:\n\u001b[1;32m   1072\u001b[0m     \u001b[38;5;28;01mraise\u001b[39;00m StdinNotImplementedError(\n\u001b[1;32m   1073\u001b[0m         \u001b[38;5;124m\"\u001b[39m\u001b[38;5;124mraw_input was called, but this frontend does not support input requests.\u001b[39m\u001b[38;5;124m\"\u001b[39m\n\u001b[1;32m   1074\u001b[0m     )\n\u001b[0;32m-> 1075\u001b[0m \u001b[38;5;28;01mreturn\u001b[39;00m \u001b[38;5;28;43mself\u001b[39;49m\u001b[38;5;241;43m.\u001b[39;49m\u001b[43m_input_request\u001b[49m\u001b[43m(\u001b[49m\n\u001b[1;32m   1076\u001b[0m \u001b[43m    \u001b[49m\u001b[38;5;28;43mstr\u001b[39;49m\u001b[43m(\u001b[49m\u001b[43mprompt\u001b[49m\u001b[43m)\u001b[49m\u001b[43m,\u001b[49m\n\u001b[1;32m   1077\u001b[0m \u001b[43m    \u001b[49m\u001b[38;5;28;43mself\u001b[39;49m\u001b[38;5;241;43m.\u001b[39;49m\u001b[43m_parent_ident\u001b[49m\u001b[43m[\u001b[49m\u001b[38;5;124;43m\"\u001b[39;49m\u001b[38;5;124;43mshell\u001b[39;49m\u001b[38;5;124;43m\"\u001b[39;49m\u001b[43m]\u001b[49m\u001b[43m,\u001b[49m\n\u001b[1;32m   1078\u001b[0m \u001b[43m    \u001b[49m\u001b[38;5;28;43mself\u001b[39;49m\u001b[38;5;241;43m.\u001b[39;49m\u001b[43mget_parent\u001b[49m\u001b[43m(\u001b[49m\u001b[38;5;124;43m\"\u001b[39;49m\u001b[38;5;124;43mshell\u001b[39;49m\u001b[38;5;124;43m\"\u001b[39;49m\u001b[43m)\u001b[49m\u001b[43m,\u001b[49m\n\u001b[1;32m   1079\u001b[0m \u001b[43m    \u001b[49m\u001b[43mpassword\u001b[49m\u001b[38;5;241;43m=\u001b[39;49m\u001b[38;5;28;43;01mFalse\u001b[39;49;00m\u001b[43m,\u001b[49m\n\u001b[1;32m   1080\u001b[0m \u001b[43m\u001b[49m\u001b[43m)\u001b[49m\n",
      "File \u001b[0;32m~/opt/anaconda3/envs/static_FC_gt/lib/python3.9/site-packages/ipykernel/kernelbase.py:1120\u001b[0m, in \u001b[0;36mKernel._input_request\u001b[0;34m(self, prompt, ident, parent, password)\u001b[0m\n\u001b[1;32m   1117\u001b[0m             \u001b[38;5;28;01mbreak\u001b[39;00m\n\u001b[1;32m   1118\u001b[0m \u001b[38;5;28;01mexcept\u001b[39;00m \u001b[38;5;167;01mKeyboardInterrupt\u001b[39;00m:\n\u001b[1;32m   1119\u001b[0m     \u001b[38;5;66;03m# re-raise KeyboardInterrupt, to truncate traceback\u001b[39;00m\n\u001b[0;32m-> 1120\u001b[0m     \u001b[38;5;28;01mraise\u001b[39;00m \u001b[38;5;167;01mKeyboardInterrupt\u001b[39;00m(\u001b[38;5;124m\"\u001b[39m\u001b[38;5;124mInterrupted by user\u001b[39m\u001b[38;5;124m\"\u001b[39m) \u001b[38;5;28;01mfrom\u001b[39;00m \u001b[38;5;28mNone\u001b[39m\n\u001b[1;32m   1121\u001b[0m \u001b[38;5;28;01mexcept\u001b[39;00m \u001b[38;5;167;01mException\u001b[39;00m:\n\u001b[1;32m   1122\u001b[0m     \u001b[38;5;28mself\u001b[39m\u001b[38;5;241m.\u001b[39mlog\u001b[38;5;241m.\u001b[39mwarning(\u001b[38;5;124m\"\u001b[39m\u001b[38;5;124mInvalid Message:\u001b[39m\u001b[38;5;124m\"\u001b[39m, exc_info\u001b[38;5;241m=\u001b[39m\u001b[38;5;28;01mTrue\u001b[39;00m)\n",
      "\u001b[0;31mKeyboardInterrupt\u001b[0m: Interrupted by user"
     ]
    }
   ],
   "source": [
    "check_norm_diff('/Users/mishodimitrov/Downloads/PhD/Analysis/Tianeptine/Data/Covariates',\n",
    "               'Covariates.xlsx',\n",
    "               'data',\n",
    "               placebo_td_list,\n",
    "               placebo_autism_list,\n",
    "               'mFD',\n",
    "               paired=False)"
   ]
  },
  {
   "cell_type": "code",
   "execution_count": null,
   "metadata": {},
   "outputs": [],
   "source": []
  },
  {
   "cell_type": "code",
   "execution_count": null,
   "metadata": {},
   "outputs": [],
   "source": []
  },
  {
   "cell_type": "code",
   "execution_count": null,
   "metadata": {},
   "outputs": [],
   "source": [
    "# # Tianeptine sessions from the Green+Orange dataset\n",
    "\n",
    "# Create ID lists\n",
    "study_name = 'BRCTRADA'\n",
    "tianeptine_td = ['001B', '003C', '004C', '007C', '008D', '009C', '010B', '011D', '012B', '013D', '014C', '015B',\n",
    "              '016D', '017B', '019C', '020C', '021B', '022D', '023B']\n",
    "tianeptine_autism = ['101C', '102B', '103D', '104D', '105D', '106C', '107D',\n",
    "          '108B', '109B', '110B', '112C', '113C', '114B', '115D', '116C', '117D', '119D', '120B', '123C']\n",
    "\n",
    "tianeptine_td_list = [study_name + sub_id[:3] for sub_id in tianeptine_td]\n",
    "tianeptine_autism_list = [study_name + sub_id[:3] for sub_id in tianeptine_autism]"
   ]
  },
  {
   "cell_type": "code",
   "execution_count": null,
   "metadata": {},
   "outputs": [],
   "source": [
    "check_norm_diff('/Users/mishodimitrov/Downloads/PhD/Analysis/Tianeptine/Data/Covariates',\n",
    "               'Covariates.xlsx',\n",
    "               'data',\n",
    "               tianeptine_td_list,\n",
    "               tianeptine_autism_list,\n",
    "               'IQ',\n",
    "               paired=False)"
   ]
  },
  {
   "cell_type": "code",
   "execution_count": null,
   "metadata": {},
   "outputs": [],
   "source": [
    "check_norm_diff('/Users/mishodimitrov/Downloads/PhD/Analysis/Tianeptine/Data/Covariates',\n",
    "               'Covariates.xlsx',\n",
    "               'data',\n",
    "               tianeptine_td_list,\n",
    "               tianeptine_autism_list,\n",
    "               'Age',\n",
    "               paired=False)"
   ]
  },
  {
   "cell_type": "code",
   "execution_count": null,
   "metadata": {},
   "outputs": [],
   "source": [
    "check_norm_diff('/Users/mishodimitrov/Downloads/PhD/Analysis/Tianeptine/Data/Covariates',\n",
    "               'Covariates.xlsx',\n",
    "               'data',\n",
    "               tianeptine_td_list,\n",
    "               tianeptine_autism_list,\n",
    "               'mFD',\n",
    "               paired=False)"
   ]
  },
  {
   "cell_type": "code",
   "execution_count": null,
   "metadata": {},
   "outputs": [],
   "source": []
  },
  {
   "cell_type": "code",
   "execution_count": null,
   "metadata": {},
   "outputs": [],
   "source": []
  },
  {
   "cell_type": "code",
   "execution_count": null,
   "metadata": {},
   "outputs": [],
   "source": [
    "# Also compare ASC_p vs ASC_T"
   ]
  },
  {
   "cell_type": "code",
   "execution_count": null,
   "metadata": {},
   "outputs": [],
   "source": [
    "check_norm_diff('/Users/mishodimitrov/Downloads/PhD/Analysis/Tianeptine/Data/Covariates',\n",
    "               'Covariates.xlsx',\n",
    "               'data',\n",
    "               placebo_autism_list,\n",
    "               tianeptine_autism_list,\n",
    "               'IQ',\n",
    "               paired=True)"
   ]
  },
  {
   "cell_type": "code",
   "execution_count": null,
   "metadata": {},
   "outputs": [],
   "source": [
    "check_norm_diff('/Users/mishodimitrov/Downloads/PhD/Analysis/Tianeptine/Data/Covariates',\n",
    "               'Covariates.xlsx',\n",
    "               'data',\n",
    "               tianeptine_td_list,\n",
    "               tianeptine_autism_list,\n",
    "               'Age',\n",
    "               paired=True)"
   ]
  },
  {
   "cell_type": "code",
   "execution_count": null,
   "metadata": {},
   "outputs": [],
   "source": [
    "check_norm_diff('/Users/mishodimitrov/Downloads/PhD/Analysis/Tianeptine/Data/Covariates',\n",
    "               'Covariates.xlsx',\n",
    "               'data',\n",
    "               tianeptine_td_list,\n",
    "               tianeptine_autism_list,\n",
    "               'mFD',\n",
    "               paired=True)"
   ]
  },
  {
   "cell_type": "code",
   "execution_count": null,
   "metadata": {},
   "outputs": [],
   "source": []
  }
 ],
 "metadata": {
  "kernelspec": {
   "display_name": "Python 3 (ipykernel)",
   "language": "python",
   "name": "python3"
  },
  "language_info": {
   "codemirror_mode": {
    "name": "ipython",
    "version": 3
   },
   "file_extension": ".py",
   "mimetype": "text/x-python",
   "name": "python",
   "nbconvert_exporter": "python",
   "pygments_lexer": "ipython3",
   "version": "3.9.0"
  }
 },
 "nbformat": 4,
 "nbformat_minor": 2
}
