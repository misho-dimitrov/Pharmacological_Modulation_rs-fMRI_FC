{
 "cells": [
  {
   "cell_type": "code",
   "execution_count": null,
   "metadata": {},
   "outputs": [],
   "source": [
    "#"
   ]
  },
  {
   "cell_type": "code",
   "execution_count": null,
   "metadata": {},
   "outputs": [],
   "source": []
  },
  {
   "cell_type": "code",
   "execution_count": null,
   "metadata": {},
   "outputs": [],
   "source": [
    "import os\n",
    "\n",
    "import numpy as np\n",
    "import pandas as pd\n",
    "\n",
    "import nibabel as nib\n",
    "from nilearn.input_data import NiftiMasker\n",
    "from nilearn.image import concat_imgs"
   ]
  },
  {
   "cell_type": "code",
   "execution_count": null,
   "metadata": {},
   "outputs": [],
   "source": []
  },
  {
   "cell_type": "code",
   "execution_count": null,
   "metadata": {},
   "outputs": [],
   "source": [
    "# Load an image from a single brain:\n",
    "def img_load(folder, img):\n",
    "    img_path = os.path.join(folder, img)\n",
    "    fmri_image = nib.load(img_path)\n",
    "    #print(fmri_image.shape)\n",
    "    return fmri_image"
   ]
  },
  {
   "cell_type": "code",
   "execution_count": null,
   "metadata": {},
   "outputs": [],
   "source": [
    "# Load a resampled, binarised GM mask\n",
    "def mask_img_load(folder, img):\n",
    "    img_path = os.path.join(folder, img)\n",
    "    mask = nib.load(img_path)\n",
    "    return mask"
   ]
  },
  {
   "cell_type": "code",
   "execution_count": null,
   "metadata": {},
   "outputs": [],
   "source": [
    "# Extract the timeseries from a single session\n",
    "def extract_time_series(fmri_image, mask):\n",
    "    brain_masker = NiftiMasker(mask, memory='nilearn_cache', memory_level=1, verbose=0)\n",
    "    brain_time_series = brain_masker.fit_transform(fmri_image)\n",
    "    return brain_time_series, brain_masker"
   ]
  },
  {
   "cell_type": "code",
   "execution_count": null,
   "metadata": {},
   "outputs": [],
   "source": [
    "# Transform the FC or DC array back into a NIfTI volume and save\n",
    "def array_to_nifti(brain_masker,array):\n",
    "    img = brain_masker.inverse_transform(array.T)\n",
    "    return img"
   ]
  },
  {
   "cell_type": "code",
   "execution_count": null,
   "metadata": {},
   "outputs": [],
   "source": []
  },
  {
   "cell_type": "code",
   "execution_count": null,
   "metadata": {},
   "outputs": [],
   "source": [
    "# Get the ID's\n",
    "os.chdir('/Users/mishodimitrov/Downloads/PhD/Analysis/CBD/Data/Covariates')\n",
    "covariate_sheet = pd.read_excel('Covariates.xlsx', sheet_name=0, engine='openpyxl')"
   ]
  },
  {
   "cell_type": "code",
   "execution_count": null,
   "metadata": {},
   "outputs": [],
   "source": [
    "#covariate_sheet = covariate_sheet.iloc[:103,:7]\n",
    "covariate_sheet"
   ]
  },
  {
   "cell_type": "code",
   "execution_count": null,
   "metadata": {},
   "outputs": [],
   "source": [
    "id_list = [covariate_sheet.iloc[:,0][i] for i in range(covariate_sheet.iloc[:,0].shape[0])]\n",
    "id_list"
   ]
  },
  {
   "cell_type": "code",
   "execution_count": null,
   "metadata": {},
   "outputs": [],
   "source": [
    "placebo_list = []\n",
    "cbd_list = []"
   ]
  },
  {
   "cell_type": "code",
   "execution_count": null,
   "metadata": {},
   "outputs": [],
   "source": [
    "# Split the sessions into the 2 respective lists from above\n",
    "for i in range(covariate_sheet.shape[0]):\n",
    "    if covariate_sheet.iloc[i][\"Placebo\"] == 1:\n",
    "        placebo_list.append(covariate_sheet.iloc[i][\"ID\"])\n",
    "    elif covariate_sheet.iloc[i][\"CBD\"] == 1:\n",
    "        cbd_list.append(covariate_sheet.iloc[i][\"ID\"])\n",
    "    else:\n",
    "        print(\"Something's wrong here..\")"
   ]
  },
  {
   "cell_type": "code",
   "execution_count": null,
   "metadata": {},
   "outputs": [],
   "source": [
    "#cbd_list"
   ]
  },
  {
   "cell_type": "code",
   "execution_count": null,
   "metadata": {},
   "outputs": [],
   "source": [
    "placebo_td = []\n",
    "placebo_autism = []\n",
    "cbd_td = []\n",
    "cbd_autism = []"
   ]
  },
  {
   "cell_type": "code",
   "execution_count": null,
   "metadata": {},
   "outputs": [],
   "source": [
    "# Split each of those into 2 new lists, of TD and ASC sessions, respectively (see just above)\n",
    "for i in range(len(placebo_list)):\n",
    "    if int(placebo_list[i][0]) == 0:\n",
    "        placebo_td.append(placebo_list[i])\n",
    "    elif int(placebo_list[i][0]) == 1:\n",
    "        placebo_autism.append(placebo_list[i])\n",
    "    else:\n",
    "        print(\"Something's wrong here..\")\n",
    "        \n",
    "for i in range(len(cbd_list)):\n",
    "    if int(cbd_list[i][0]) == 0:\n",
    "        cbd_td.append(cbd_list[i])\n",
    "    elif int(cbd_list[i][0]) == 1:\n",
    "        cbd_autism.append(cbd_list[i])\n",
    "    else:\n",
    "        print(\"Something's wrong here..\")"
   ]
  },
  {
   "cell_type": "code",
   "execution_count": null,
   "metadata": {},
   "outputs": [],
   "source": []
  },
  {
   "cell_type": "code",
   "execution_count": null,
   "metadata": {},
   "outputs": [],
   "source": [
    "# Only placebo and CBD from the ASC group\n",
    "print(placebo_autism)\n",
    "print(cbd_autism)"
   ]
  },
  {
   "cell_type": "code",
   "execution_count": null,
   "metadata": {},
   "outputs": [],
   "source": [
    "# Remove the ones that only have a single session\n",
    "placebo_autism_to_remove = ['102A', '110C']\n",
    "cbd_autism_to_remove = ['104A']\n",
    "for i in placebo_autism_to_remove:\n",
    "    print('Removing session ' + i)\n",
    "    placebo_autism.remove(i)\n",
    "for j in cbd_autism_to_remove:\n",
    "    print('Removing session ' + j)\n",
    "    cbd_autism.remove(j)"
   ]
  },
  {
   "cell_type": "code",
   "execution_count": null,
   "metadata": {},
   "outputs": [],
   "source": [
    "print(len(placebo_td))\n",
    "print(len(cbd_td))"
   ]
  },
  {
   "cell_type": "code",
   "execution_count": null,
   "metadata": {},
   "outputs": [],
   "source": []
  },
  {
   "cell_type": "code",
   "execution_count": null,
   "metadata": {},
   "outputs": [],
   "source": []
  },
  {
   "cell_type": "code",
   "execution_count": null,
   "metadata": {},
   "outputs": [],
   "source": [
    "work_dir = '/Users/mishodimitrov/Downloads/PhD/Analysis/CBD/Static_FC/DC_data/wDC_Z/'"
   ]
  },
  {
   "cell_type": "code",
   "execution_count": null,
   "metadata": {},
   "outputs": [],
   "source": []
  },
  {
   "cell_type": "code",
   "execution_count": null,
   "metadata": {},
   "outputs": [],
   "source": [
    "ses_id = cbd_td"
   ]
  },
  {
   "cell_type": "code",
   "execution_count": null,
   "metadata": {},
   "outputs": [],
   "source": [
    "project_name =  'MAGACAN'\n",
    "name_ending = '_wDC_Z.nii'"
   ]
  },
  {
   "cell_type": "code",
   "execution_count": null,
   "metadata": {},
   "outputs": [],
   "source": [
    "img_list = []\n",
    "for i in range(len(ses_id)):\n",
    "    session_filename = work_dir + project_name + ses_id[i] + name_ending\n",
    "    img_list.append(session_filename)"
   ]
  },
  {
   "cell_type": "code",
   "execution_count": null,
   "metadata": {},
   "outputs": [],
   "source": [
    "img_list"
   ]
  },
  {
   "cell_type": "code",
   "execution_count": null,
   "metadata": {},
   "outputs": [],
   "source": []
  },
  {
   "cell_type": "code",
   "execution_count": null,
   "metadata": {},
   "outputs": [],
   "source": [
    "# Concatenate all 3D images for the respective group into a 4D image and save\n",
    "os.chdir('/Users/mishodimitrov/Downloads/PhD/Analysis/CBD/Static_FC/Analysis/Step_3_Voxel-wise_wDC')\n",
    "group_img = concat_imgs(img_list)\n",
    "nib.save(group_img, 'td_cbd_wDC_group_img')"
   ]
  },
  {
   "cell_type": "code",
   "execution_count": null,
   "metadata": {},
   "outputs": [],
   "source": []
  },
  {
   "cell_type": "code",
   "execution_count": null,
   "metadata": {},
   "outputs": [],
   "source": [
    "# Combine TD and ASC shift images\n",
    "shift_img_list = ['/Users/mishodimitrov/Downloads/PhD/Analysis/CBD/Static_FC/Analysis/Step_3_Voxel-wise_wDC/td_shift_wDC_group_img.nii.gz',\n",
    "                 '/Users/mishodimitrov/Downloads/PhD/Analysis/CBD/Static_FC/Analysis/Step_3_Voxel-wise_wDC/autism_shift_wDC_group_img.nii.gz']\n",
    "shift_img = concat_imgs(shift_img_list)\n",
    "nib.save(shift_img, 'shift_comp_group_img')"
   ]
  },
  {
   "cell_type": "code",
   "execution_count": null,
   "metadata": {},
   "outputs": [],
   "source": []
  },
  {
   "cell_type": "code",
   "execution_count": null,
   "metadata": {},
   "outputs": [],
   "source": []
  },
  {
   "cell_type": "code",
   "execution_count": null,
   "metadata": {},
   "outputs": [],
   "source": [
    "asc_pla = concat_imgs(img_list[0:17])\n",
    "asc_tia = concat_imgs(img_list[17:34])"
   ]
  },
  {
   "cell_type": "code",
   "execution_count": null,
   "metadata": {},
   "outputs": [],
   "source": [
    "nib.save(asc_pla, 'ASC_placebo_wDC_group_img')\n",
    "nib.save(asc_tia, 'ASC_tianeptine_wDC_group_img')"
   ]
  },
  {
   "cell_type": "code",
   "execution_count": null,
   "metadata": {},
   "outputs": [],
   "source": []
  },
  {
   "cell_type": "code",
   "execution_count": null,
   "metadata": {},
   "outputs": [],
   "source": [
    "td_pla = concat_imgs(img_list[0:19])\n",
    "td_tia = concat_imgs(img_list[19:38])"
   ]
  },
  {
   "cell_type": "code",
   "execution_count": null,
   "metadata": {},
   "outputs": [],
   "source": [
    "nib.save(td_pla, 'TD_placebo_wDC_group_img')\n",
    "nib.save(td_tia, 'TD_tianeptine_wDC_group_img')"
   ]
  },
  {
   "cell_type": "code",
   "execution_count": null,
   "metadata": {},
   "outputs": [],
   "source": []
  }
 ],
 "metadata": {
  "kernelspec": {
   "display_name": "Python 3 (ipykernel)",
   "language": "python",
   "name": "python3"
  },
  "language_info": {
   "codemirror_mode": {
    "name": "ipython",
    "version": 3
   },
   "file_extension": ".py",
   "mimetype": "text/x-python",
   "name": "python",
   "nbconvert_exporter": "python",
   "pygments_lexer": "ipython3",
   "version": "3.9.13"
  }
 },
 "nbformat": 4,
 "nbformat_minor": 2
}
