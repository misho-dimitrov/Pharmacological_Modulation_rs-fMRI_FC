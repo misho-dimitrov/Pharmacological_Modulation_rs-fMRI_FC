{
 "cells": [
  {
   "cell_type": "markdown",
   "metadata": {},
   "source": [
    "## Mask the weighted degree centrality (wDC) maps using the two masks from Holiga et al., 2019 (https://www.science.org/doi/10.1126/scitranslmed.aat9223) and calculate the mask-averaged wDC values"
   ]
  },
  {
   "cell_type": "code",
   "execution_count": null,
   "metadata": {},
   "outputs": [],
   "source": []
  },
  {
   "cell_type": "code",
   "execution_count": 1,
   "metadata": {},
   "outputs": [],
   "source": [
    "import os\n",
    "import glob\n",
    "\n",
    "import numpy as np\n",
    "import pandas as pd\n",
    "\n",
    "import nibabel as nib\n",
    "from nilearn.maskers import NiftiMasker"
   ]
  },
  {
   "cell_type": "code",
   "execution_count": null,
   "metadata": {},
   "outputs": [],
   "source": []
  },
  {
   "cell_type": "code",
   "execution_count": 2,
   "metadata": {},
   "outputs": [],
   "source": [
    "# Load an image from a single brain:\n",
    "def img_load(folder, img):\n",
    "    img_path = os.path.join(folder, img)\n",
    "    fmri_image = nib.load(img_path)\n",
    "    #print(fmri_image.shape)\n",
    "    return fmri_image"
   ]
  },
  {
   "cell_type": "code",
   "execution_count": 3,
   "metadata": {},
   "outputs": [],
   "source": [
    "# Load a resampled, binarised GM mask\n",
    "def mask_img_load(folder, img):\n",
    "    img_path = os.path.join(folder, img)\n",
    "    mask = nib.load(img_path)\n",
    "    return mask"
   ]
  },
  {
   "cell_type": "code",
   "execution_count": 4,
   "metadata": {},
   "outputs": [],
   "source": [
    "# Extract the timeseries from a single session\n",
    "def extract_time_series(fmri_image, mask):\n",
    "    brain_masker = NiftiMasker(mask, memory='nilearn_cache', memory_level=1, verbose=0)\n",
    "    brain_time_series = brain_masker.fit_transform(fmri_image)\n",
    "    return brain_time_series, brain_masker"
   ]
  },
  {
   "cell_type": "code",
   "execution_count": 5,
   "metadata": {},
   "outputs": [],
   "source": [
    "# Transform the FC or DC array back into a NIfTI volume and save\n",
    "def array_to_nifti(brain_masker,array):\n",
    "    img = brain_masker.inverse_transform(array.T)\n",
    "    return img"
   ]
  },
  {
   "cell_type": "code",
   "execution_count": null,
   "metadata": {},
   "outputs": [],
   "source": []
  },
  {
   "cell_type": "code",
   "execution_count": 6,
   "metadata": {},
   "outputs": [],
   "source": [
    "def mask_average_wDC(rootDIR, SUBlist, ROImask):\n",
    "    dc_list = []\n",
    "    for i in range(len(SUBlist)):\n",
    "        \n",
    "        # load an image from a single brain:\n",
    "        dc_image = img_load(rootDIR, SUBlist[i])\n",
    "        print(\"Participant \" + SUBlist[i])\n",
    "        #print(\"The image dimensions are: \" + str(dc_image.shape))\n",
    "        \n",
    "        # load the ROI mask\n",
    "        roi_mask = mask_img_load(rootDIR, ROImask)\n",
    "        #print(\"ROI mask loaded.\")\n",
    "        \n",
    "        # create a NiftiMasker object and extract the DC\n",
    "        dc_vals, brain_masker = extract_time_series(dc_image, roi_mask)\n",
    "        #print(\"Time series extracted.\")\n",
    "        \n",
    "        # check for missing values\n",
    "        n_zeros = np.count_nonzero(dc_vals==0)\n",
    "        print(f'The number of missing values is {n_zeros}')\n",
    "        \n",
    "        # calculate mean DC\n",
    "        mean_dc = np.mean(dc_vals)\n",
    "        \n",
    "        # add to the list of images\n",
    "        dc_list.append(mean_dc)\n",
    "        print(\"Image added to the list.\")\n",
    "    \n",
    "    print(\"Done!\")\n",
    "    return dc_list"
   ]
  },
  {
   "cell_type": "code",
   "execution_count": null,
   "metadata": {},
   "outputs": [],
   "source": []
  },
  {
   "cell_type": "code",
   "execution_count": 7,
   "metadata": {},
   "outputs": [],
   "source": [
    "# Generate the lists of ID's"
   ]
  },
  {
   "cell_type": "code",
   "execution_count": null,
   "metadata": {},
   "outputs": [],
   "source": [
    "os.chdir('/Users/mishodimitrov/Downloads/PhD/Analysis/CBD/Data/Covariates')\n",
    "covariate_sheet = pd.read_excel('Covariates.xlsx', sheet_name=0, engine='openpyxl')\n",
    "covariate_sheet"
   ]
  },
  {
   "cell_type": "code",
   "execution_count": null,
   "metadata": {},
   "outputs": [],
   "source": [
    "id_list = [covariate_sheet.iloc[:,0][i] for i in range(covariate_sheet.iloc[:,0].shape[0])]\n",
    "id_list "
   ]
  },
  {
   "cell_type": "code",
   "execution_count": null,
   "metadata": {},
   "outputs": [],
   "source": []
  },
  {
   "cell_type": "code",
   "execution_count": 10,
   "metadata": {},
   "outputs": [],
   "source": [
    "placebo_list = []\n",
    "cbd_list = []"
   ]
  },
  {
   "cell_type": "code",
   "execution_count": null,
   "metadata": {},
   "outputs": [],
   "source": []
  },
  {
   "cell_type": "code",
   "execution_count": 11,
   "metadata": {},
   "outputs": [],
   "source": [
    "# Split the sessions into the 3 respective lists from above\n",
    "for i in range(covariate_sheet.shape[0]):\n",
    "    if covariate_sheet.iloc[i][\"Placebo\"]:\n",
    "        placebo_list.append(covariate_sheet.iloc[i][\"ID\"])\n",
    "    elif covariate_sheet.iloc[i][\"CBD\"]:\n",
    "        cbd_list.append(covariate_sheet.iloc[i][\"ID\"])\n",
    "    else:\n",
    "        print(\"Something's wrong here..\")"
   ]
  },
  {
   "cell_type": "code",
   "execution_count": 12,
   "metadata": {},
   "outputs": [],
   "source": [
    "#placebo_list"
   ]
  },
  {
   "cell_type": "code",
   "execution_count": 13,
   "metadata": {},
   "outputs": [],
   "source": [
    "placebo_td = []\n",
    "placebo_autism = []\n",
    "cbd_td = []\n",
    "cbd_autism = []"
   ]
  },
  {
   "cell_type": "code",
   "execution_count": 14,
   "metadata": {},
   "outputs": [],
   "source": [
    "# Split each of those into 2 new lists, of TD and ASC sessions, respectively (see just above)\n",
    "for i in range(len(placebo_list)):\n",
    "    if int(placebo_list[i][0]) == 0:\n",
    "        placebo_td.append(placebo_list[i])\n",
    "    elif int(placebo_list[i][0]) == 1:\n",
    "        placebo_autism.append(placebo_list[i])\n",
    "    else:\n",
    "        print(\"Something's wrong here..\")\n",
    "        \n",
    "for i in range(len(cbd_list)):\n",
    "    if int(cbd_list[i][0]) == 0:\n",
    "        cbd_td.append(cbd_list[i])\n",
    "    elif int(cbd_list[i][0]) == 1:\n",
    "        cbd_autism.append(cbd_list[i])\n",
    "    else:\n",
    "        print(\"Something's wrong here..\")"
   ]
  },
  {
   "cell_type": "code",
   "execution_count": null,
   "metadata": {},
   "outputs": [],
   "source": []
  },
  {
   "cell_type": "code",
   "execution_count": 15,
   "metadata": {},
   "outputs": [],
   "source": [
    "###################################################################################################################"
   ]
  },
  {
   "cell_type": "code",
   "execution_count": null,
   "metadata": {},
   "outputs": [],
   "source": []
  },
  {
   "cell_type": "code",
   "execution_count": 16,
   "metadata": {},
   "outputs": [],
   "source": [
    "# Choose whether to use the wDC or the DC folder..\n",
    "work_dir = '/Users/mishodimitrov/Downloads/PhD/Analysis/CBD/Static_FC/DC_data/wDC_Z'"
   ]
  },
  {
   "cell_type": "code",
   "execution_count": null,
   "metadata": {},
   "outputs": [],
   "source": []
  },
  {
   "cell_type": "code",
   "execution_count": null,
   "metadata": {},
   "outputs": [],
   "source": [
    "###################################################################################################################"
   ]
  },
  {
   "cell_type": "code",
   "execution_count": null,
   "metadata": {},
   "outputs": [],
   "source": []
  },
  {
   "cell_type": "code",
   "execution_count": 35,
   "metadata": {},
   "outputs": [],
   "source": [
    "# Choose the set of ID's\n",
    "name_beginning = 'MAGACAN'\n",
    "\n",
    "ses_id = cbd_autism\n",
    "\n",
    "name_ending = '_wDC_Z.nii'"
   ]
  },
  {
   "cell_type": "code",
   "execution_count": null,
   "metadata": {},
   "outputs": [],
   "source": []
  },
  {
   "cell_type": "code",
   "execution_count": null,
   "metadata": {},
   "outputs": [],
   "source": []
  },
  {
   "cell_type": "code",
   "execution_count": null,
   "metadata": {},
   "outputs": [],
   "source": [
    "# Create the session list\n",
    "ses_list = []\n",
    "for i in range(len(ses_id)):\n",
    "    session_filename = name_beginning + ses_id[i] + name_ending\n",
    "    ses_list.append(session_filename)\n",
    "ses_list"
   ]
  },
  {
   "cell_type": "code",
   "execution_count": null,
   "metadata": {},
   "outputs": [],
   "source": []
  },
  {
   "cell_type": "code",
   "execution_count": 37,
   "metadata": {},
   "outputs": [],
   "source": [
    "# ses_list = img_list"
   ]
  },
  {
   "cell_type": "code",
   "execution_count": null,
   "metadata": {},
   "outputs": [],
   "source": []
  },
  {
   "cell_type": "code",
   "execution_count": null,
   "metadata": {},
   "outputs": [],
   "source": [
    "# Run program\n",
    "dc_list = mask_average_wDC(work_dir, ses_list, 'final_asc_td_mask.nii.gz')"
   ]
  },
  {
   "cell_type": "code",
   "execution_count": null,
   "metadata": {},
   "outputs": [],
   "source": []
  },
  {
   "cell_type": "code",
   "execution_count": null,
   "metadata": {},
   "outputs": [],
   "source": [
    "# Convert the list to a Pandas DataFrame\n",
    "dc_df = pd.DataFrame(dc_list, columns = ['CBD'])\n",
    "dc_df = dc_df.set_index([ses_id])\n",
    "dc_df"
   ]
  },
  {
   "cell_type": "code",
   "execution_count": 43,
   "metadata": {},
   "outputs": [],
   "source": [
    "# Save to disk (as .csv)\n",
    "os.chdir('/Users/mishodimitrov/Downloads/PhD/Analysis/CBD/Static_FC/Analysis/Step_2_Mean_wDC')\n",
    "dc_df.to_csv('ASC_CBD_wDC_Z_hyper.csv'\n",
    "             #, index=False\n",
    "            )"
   ]
  },
  {
   "cell_type": "code",
   "execution_count": null,
   "metadata": {},
   "outputs": [],
   "source": []
  }
 ],
 "metadata": {
  "kernelspec": {
   "display_name": "Python 3 (ipykernel)",
   "language": "python",
   "name": "python3"
  },
  "language_info": {
   "codemirror_mode": {
    "name": "ipython",
    "version": 3
   },
   "file_extension": ".py",
   "mimetype": "text/x-python",
   "name": "python",
   "nbconvert_exporter": "python",
   "pygments_lexer": "ipython3",
   "version": "3.9.13"
  }
 },
 "nbformat": 4,
 "nbformat_minor": 2
}
