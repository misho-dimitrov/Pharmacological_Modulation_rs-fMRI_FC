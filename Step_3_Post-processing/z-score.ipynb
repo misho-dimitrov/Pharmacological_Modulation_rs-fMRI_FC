{
 "cells": [
  {
   "cell_type": "code",
   "execution_count": null,
   "metadata": {},
   "outputs": [],
   "source": [
    "# To Z-score the weighted degree centrality maps"
   ]
  },
  {
   "cell_type": "code",
   "execution_count": null,
   "metadata": {},
   "outputs": [],
   "source": []
  },
  {
   "cell_type": "code",
   "execution_count": 1,
   "metadata": {},
   "outputs": [],
   "source": [
    "import os\n",
    "import glob\n",
    "\n",
    "import numpy as np\n",
    "from sklearn.preprocessing import StandardScaler\n",
    "\n",
    "import nibabel as nib\n",
    "from nilearn.maskers import NiftiMasker\n",
    "from nilearn.image import concat_imgs\n",
    "from nilearn.image import math_img\n",
    "from nilearn import plotting"
   ]
  },
  {
   "cell_type": "code",
   "execution_count": null,
   "metadata": {},
   "outputs": [],
   "source": []
  },
  {
   "cell_type": "code",
   "execution_count": 2,
   "metadata": {},
   "outputs": [],
   "source": [
    "# Load an image from a single brain:\n",
    "def img_load(folder, img):\n",
    "    img_path = os.path.join(folder, img)\n",
    "    fmri_image = nib.load(img_path)\n",
    "    #print(fmri_image.shape)\n",
    "    return fmri_image"
   ]
  },
  {
   "cell_type": "code",
   "execution_count": 3,
   "metadata": {},
   "outputs": [],
   "source": [
    "# Extract the timeseries from a single session\n",
    "def extract_time_series(fmri_image, mask):\n",
    "    brain_masker = NiftiMasker(mask, memory='nilearn_cache', memory_level=1, verbose=0)\n",
    "    brain_time_series = brain_masker.fit_transform(fmri_image)\n",
    "    return brain_time_series, brain_masker"
   ]
  },
  {
   "cell_type": "code",
   "execution_count": 4,
   "metadata": {},
   "outputs": [],
   "source": [
    "# Z-score\n",
    "def z_score_dc(dc_array):\n",
    "    dc = dc_array.reshape(-1, 1)\n",
    "    scaler = StandardScaler()\n",
    "    dc_scaled = scaler.fit_transform(dc)\n",
    "    return dc_scaled"
   ]
  },
  {
   "cell_type": "code",
   "execution_count": 5,
   "metadata": {},
   "outputs": [],
   "source": [
    "# Transform the FC or DC array back into a NIfTI volume and save\n",
    "def array_to_nifti(brain_masker,array):\n",
    "    img = brain_masker.inverse_transform(array.T)\n",
    "    return img"
   ]
  },
  {
   "cell_type": "code",
   "execution_count": null,
   "metadata": {},
   "outputs": [],
   "source": []
  },
  {
   "cell_type": "code",
   "execution_count": 6,
   "metadata": {},
   "outputs": [],
   "source": [
    "def z_score_multi(rootDIR, SUBlist):\n",
    "    for i in range(len(SUBlist)):\n",
    "        \n",
    "        # load an image from a single brain:\n",
    "        dc_image = img_load(rootDIR, SUBlist[i])\n",
    "        sub_id = SUBlist[i][73:79]\n",
    "        print(\"Participant \" + sub_id)\n",
    "        #print(\"The image dimensions are: \" + str(dc_image.shape))\n",
    "        \n",
    "        # create a mask from the participant image (otherwise, there will be regions without signal because of the \n",
    "        # discrepancy between whole-brain GM and participant-specific mask\n",
    "        mask = math_img('img > 0', img=dc_image)\n",
    "        print(\"Mask created.\")\n",
    "        \n",
    "        # create a NiftiMasker object and extract the time series\n",
    "        dc_vals, brain_masker = extract_time_series(dc_image, mask)\n",
    "        print(\"DC extracted.\")\n",
    "        \n",
    "        # z-score the DC matrix\n",
    "        z_scored_dc_vals = z_score_dc(dc_vals)\n",
    "        print(\"DC matrix z-scored.\")\n",
    "                \n",
    "        # convert to NIfTI and save\n",
    "        z_scored_image = array_to_nifti(brain_masker, z_scored_dc_vals)\n",
    "        image_name = sub_id + \"_wDC_Z\"\n",
    "        nib.save(z_scored_image, image_name)\n",
    "        print(\"Saved!\")\n",
    "    \n",
    "    \n",
    "    print(\"Done!\")"
   ]
  },
  {
   "cell_type": "code",
   "execution_count": null,
   "metadata": {},
   "outputs": [],
   "source": []
  },
  {
   "cell_type": "code",
   "execution_count": null,
   "metadata": {},
   "outputs": [],
   "source": []
  },
  {
   "cell_type": "code",
   "execution_count": 7,
   "metadata": {},
   "outputs": [],
   "source": [
    "work_dir = '/Users/mishodimitrov/Downloads/PhD/Analysis/CBD/Static_FC/DC_data'"
   ]
  },
  {
   "cell_type": "code",
   "execution_count": 8,
   "metadata": {},
   "outputs": [],
   "source": [
    "sub_list = sorted(glob.glob(\"/Users/mishodimitrov/Downloads/PhD/Analysis/CBD/Static_FC/DC_data/MAGACAN????_wDC_raw.nii\"))"
   ]
  },
  {
   "cell_type": "code",
   "execution_count": null,
   "metadata": {},
   "outputs": [],
   "source": []
  },
  {
   "cell_type": "code",
   "execution_count": null,
   "metadata": {},
   "outputs": [],
   "source": [
    "z_score_multi(work_dir, sub_list)"
   ]
  },
  {
   "cell_type": "code",
   "execution_count": null,
   "metadata": {},
   "outputs": [],
   "source": []
  }
 ],
 "metadata": {
  "kernelspec": {
   "display_name": "Python 3 (ipykernel)",
   "language": "python",
   "name": "python3"
  },
  "language_info": {
   "codemirror_mode": {
    "name": "ipython",
    "version": 3
   },
   "file_extension": ".py",
   "mimetype": "text/x-python",
   "name": "python",
   "nbconvert_exporter": "python",
   "pygments_lexer": "ipython3",
   "version": "3.9.13"
  }
 },
 "nbformat": 4,
 "nbformat_minor": 2
}
