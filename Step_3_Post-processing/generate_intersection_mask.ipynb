{
 "cells": [
  {
   "cell_type": "code",
   "execution_count": null,
   "metadata": {},
   "outputs": [],
   "source": [
    "# "
   ]
  },
  {
   "cell_type": "code",
   "execution_count": null,
   "metadata": {},
   "outputs": [],
   "source": []
  },
  {
   "cell_type": "code",
   "execution_count": null,
   "metadata": {},
   "outputs": [],
   "source": [
    "import os\n",
    "import glob\n",
    "\n",
    "import pandas as pd\n",
    "\n",
    "import nibabel as nib\n",
    "from nilearn import image\n",
    "from nilearn import masking\n",
    "from nilearn import plotting"
   ]
  },
  {
   "cell_type": "code",
   "execution_count": null,
   "metadata": {},
   "outputs": [],
   "source": []
  },
  {
   "cell_type": "code",
   "execution_count": null,
   "metadata": {},
   "outputs": [],
   "source": [
    "# Load an image from a single brain:\n",
    "def img_load(folder, img):\n",
    "    img_path = os.path.join(folder, img)\n",
    "    fmri_image = nib.load(img_path)\n",
    "    return fmri_image"
   ]
  },
  {
   "cell_type": "code",
   "execution_count": null,
   "metadata": {},
   "outputs": [],
   "source": []
  },
  {
   "cell_type": "code",
   "execution_count": null,
   "metadata": {},
   "outputs": [],
   "source": [
    "###################################################################################################################"
   ]
  },
  {
   "cell_type": "markdown",
   "metadata": {},
   "source": [
    "### Holiga et al., 2019 - Patients with autism spectrum disorders display reproducible functional connectivity alterations [ https://www.science.org/doi/10.1126/scitranslmed.aat9223 ]"
   ]
  },
  {
   "cell_type": "code",
   "execution_count": null,
   "metadata": {},
   "outputs": [],
   "source": [
    "# Load the resampled ASC>TD Holiga mask"
   ]
  },
  {
   "cell_type": "code",
   "execution_count": null,
   "metadata": {},
   "outputs": [],
   "source": [
    "asc_td_mask_folder = \"/Users/mishodimitrov/Downloads/PhD/Analysis/CBD/Data/Masks/Holiga_et_al/ASC_TD\""
   ]
  },
  {
   "cell_type": "code",
   "execution_count": null,
   "metadata": {},
   "outputs": [],
   "source": [
    "asc_td_mask = img_load(asc_td_mask_folder, 'asc_td.nii.gz')"
   ]
  },
  {
   "cell_type": "code",
   "execution_count": null,
   "metadata": {},
   "outputs": [],
   "source": [
    "plotting.plot_img(asc_td_mask)"
   ]
  },
  {
   "cell_type": "code",
   "execution_count": null,
   "metadata": {},
   "outputs": [],
   "source": []
  },
  {
   "cell_type": "code",
   "execution_count": null,
   "metadata": {},
   "outputs": [],
   "source": [
    "# Load the resampled TD>ASC Holiga mask"
   ]
  },
  {
   "cell_type": "code",
   "execution_count": null,
   "metadata": {},
   "outputs": [],
   "source": [
    "td_asc_mask_folder = \"/Users/mishodimitrov/Downloads/PhD/Analysis/CBD/Data/Masks/Holiga_et_al/TD_ASC\""
   ]
  },
  {
   "cell_type": "code",
   "execution_count": null,
   "metadata": {},
   "outputs": [],
   "source": [
    "td_asc_mask = img_load(td_asc_mask_folder, 'td_asc.nii.gz')"
   ]
  },
  {
   "cell_type": "code",
   "execution_count": null,
   "metadata": {},
   "outputs": [],
   "source": [
    "plotting.plot_img(td_asc_mask)"
   ]
  },
  {
   "cell_type": "code",
   "execution_count": null,
   "metadata": {},
   "outputs": [],
   "source": []
  },
  {
   "cell_type": "code",
   "execution_count": null,
   "metadata": {},
   "outputs": [],
   "source": [
    "###################################################################################################################"
   ]
  },
  {
   "cell_type": "code",
   "execution_count": null,
   "metadata": {},
   "outputs": [],
   "source": [
    "## Generate an intersection mask"
   ]
  },
  {
   "cell_type": "code",
   "execution_count": null,
   "metadata": {},
   "outputs": [],
   "source": []
  },
  {
   "cell_type": "code",
   "execution_count": null,
   "metadata": {},
   "outputs": [],
   "source": []
  },
  {
   "cell_type": "code",
   "execution_count": null,
   "metadata": {},
   "outputs": [],
   "source": [
    "img_folder = '/Users/mishodimitrov/Downloads/PhD/Analysis/CBD/Static_FC/DC_data/wDC_Z'"
   ]
  },
  {
   "cell_type": "code",
   "execution_count": null,
   "metadata": {},
   "outputs": [],
   "source": [
    "# Get the correct ID's"
   ]
  },
  {
   "cell_type": "code",
   "execution_count": null,
   "metadata": {},
   "outputs": [],
   "source": [
    "os.chdir('/Users/mishodimitrov/Downloads/PhD/Analysis/CBD/Data/Covariates')\n",
    "covariate_sheet = pd.read_excel('Covariates.xlsx', sheet_name=0, engine='openpyxl')\n",
    "covariate_sheet"
   ]
  },
  {
   "cell_type": "code",
   "execution_count": null,
   "metadata": {},
   "outputs": [],
   "source": [
    "id_list = [covariate_sheet.iloc[:,0][i] for i in range(covariate_sheet.iloc[:,0].shape[0])]\n",
    "id_list "
   ]
  },
  {
   "cell_type": "code",
   "execution_count": null,
   "metadata": {},
   "outputs": [],
   "source": []
  },
  {
   "cell_type": "code",
   "execution_count": null,
   "metadata": {},
   "outputs": [],
   "source": [
    "img_list = ['MAGACAN' + id_list[i] + '_wDC_Z.nii' for i in range(len(id_list))]\n",
    "img_list"
   ]
  },
  {
   "cell_type": "code",
   "execution_count": null,
   "metadata": {},
   "outputs": [],
   "source": []
  },
  {
   "cell_type": "code",
   "execution_count": null,
   "metadata": {},
   "outputs": [],
   "source": [
    "def binarise_append_intersect(img_folder, img_list, intersection_thr):\n",
    "    img_list_bin = []\n",
    "    # binarise images and append to list\n",
    "    for i in range(len(img_list)):\n",
    "        wDC_img = img_load(img_folder, img_list[i])\n",
    "        #print('Image loaded.')\n",
    "        wDC_img_bin = image.binarize_img(wDC_img, threshold=0, mask_img=None)\n",
    "        #print('Image binarised.')\n",
    "        img_list_bin.append(wDC_img_bin)\n",
    "        #print('Image added to the list.')\n",
    "    # create an intersection mask of all images in the list\n",
    "    intersection_mask = masking.intersect_masks(img_list_bin, threshold=intersection_thr, connected=False)\n",
    "    print('Intersection mask created.')\n",
    "    return intersection_mask"
   ]
  },
  {
   "cell_type": "code",
   "execution_count": null,
   "metadata": {},
   "outputs": [],
   "source": [
    "intersection_mask = binarise_append_intersect(img_folder, img_list, 0.85)"
   ]
  },
  {
   "cell_type": "code",
   "execution_count": null,
   "metadata": {},
   "outputs": [],
   "source": []
  },
  {
   "cell_type": "code",
   "execution_count": null,
   "metadata": {},
   "outputs": [],
   "source": [
    "plotting.plot_img(intersection_mask)"
   ]
  },
  {
   "cell_type": "code",
   "execution_count": null,
   "metadata": {},
   "outputs": [],
   "source": []
  },
  {
   "cell_type": "code",
   "execution_count": null,
   "metadata": {},
   "outputs": [],
   "source": [
    "# Save the intersection mask\n",
    "os.chdir('/Users/mishodimitrov/Downloads/PhD/Analysis/CBD/Static_FC/Analysis/Step_2_Mean_wDC')\n",
    "nib.save(intersection_mask, \"intersection_mask_0.85.nii.gz\")"
   ]
  },
  {
   "cell_type": "code",
   "execution_count": null,
   "metadata": {},
   "outputs": [],
   "source": []
  },
  {
   "cell_type": "code",
   "execution_count": null,
   "metadata": {},
   "outputs": [],
   "source": [
    "###################################################################################################################"
   ]
  },
  {
   "cell_type": "code",
   "execution_count": null,
   "metadata": {},
   "outputs": [],
   "source": [
    "# Generate 2 final Holiga et al. masks, made from intersecting the intersection mask and the 2 masks, respectively\n",
    "# N.B. After looking at the masks, I've decided to stick with the 0.85 one\n",
    "final_asc_td_mask_list = [intersection_mask, asc_td_mask]\n",
    "final_asc_td_mask = masking.intersect_masks(final_asc_td_mask_list, threshold=1, connected=False)\n",
    "final_td_asc_mask_list = [intersection_mask, td_asc_mask]\n",
    "final_td_asc_mask = masking.intersect_masks(final_td_asc_mask_list, threshold=1, connected=False)"
   ]
  },
  {
   "cell_type": "code",
   "execution_count": null,
   "metadata": {},
   "outputs": [],
   "source": []
  },
  {
   "cell_type": "code",
   "execution_count": null,
   "metadata": {},
   "outputs": [],
   "source": [
    "plotting.plot_img(final_asc_td_mask)"
   ]
  },
  {
   "cell_type": "code",
   "execution_count": null,
   "metadata": {},
   "outputs": [],
   "source": [
    "plotting.plot_img(final_td_asc_mask)"
   ]
  },
  {
   "cell_type": "code",
   "execution_count": null,
   "metadata": {},
   "outputs": [],
   "source": []
  },
  {
   "cell_type": "code",
   "execution_count": null,
   "metadata": {},
   "outputs": [],
   "source": [
    "# Save the final Holiga et al. masks\n",
    "os.chdir('/Users/mishodimitrov/Downloads/PhD/Analysis/CBD/Static_FC/Analysis/Step_2_Mean_wDC')\n",
    "nib.save(final_asc_td_mask, \"final_asc_td_mask.nii.gz\")\n",
    "nib.save(final_td_asc_mask, \"final_td_asc_mask.nii.gz\")"
   ]
  },
  {
   "cell_type": "code",
   "execution_count": null,
   "metadata": {},
   "outputs": [],
   "source": []
  }
 ],
 "metadata": {
  "kernelspec": {
   "display_name": "Python 3 (ipykernel)",
   "language": "python",
   "name": "python3"
  },
  "language_info": {
   "codemirror_mode": {
    "name": "ipython",
    "version": 3
   },
   "file_extension": ".py",
   "mimetype": "text/x-python",
   "name": "python",
   "nbconvert_exporter": "python",
   "pygments_lexer": "ipython3",
   "version": "3.9.13"
  }
 },
 "nbformat": 4,
 "nbformat_minor": 2
}
